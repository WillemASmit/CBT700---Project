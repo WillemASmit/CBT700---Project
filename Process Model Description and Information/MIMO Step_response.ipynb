{
 "cells": [
  {
   "cell_type": "code",
   "execution_count": 1,
   "metadata": {},
   "outputs": [],
   "source": [
    "import numpy\n",
    "import control\n",
    "import matplotlib.pyplot as plt\n",
    "import Functions\n",
    "%matplotlib inline"
   ]
  },
  {
   "cell_type": "code",
   "execution_count": 2,
   "metadata": {},
   "outputs": [],
   "source": [
    "s = control.tf([1,0],1)\n",
    "#For MIMO LTI defenition\n",
    "\n",
    "num = [[[0.66], [-0.61], [-0.0049]],\n",
    "       [[1.11], [-2.36], [-0.01]],\n",
    "       [[-34.68], [46.2], [0.87*11.61, 0.87]]]\n",
    "\n",
    "den = [[[6.7, 1], [8.64, 1], [9.06, 1]],\n",
    "       [[3.25, 1], [5, 1], [7.09, 1]],\n",
    "       [[8.15, 1], [10.9, 1], [3.89*18.8, 3.89+18.8, 1]]]"
   ]
  },
  {
   "cell_type": "code",
   "execution_count": 25,
   "metadata": {},
   "outputs": [
    {
     "data": {
      "text/plain": [
       "array([ 0.5577, -0.858 ,  0.66  ])"
      ]
     },
     "execution_count": 25,
     "metadata": {},
     "output_type": "execute_result"
    }
   ],
   "source": [
    "G11 = 0.66/(6.7*s + 1)\n",
    "G12 = -0.61/(8.64*s + 1)\n",
    "G13 = -0.0049/(9.06*s + 1)\n",
    "G21 = 1.11/(3.25*s + 1)\n",
    "G22 = -2.36/(5*s + 1)\n",
    "G23 = -0.01/(7.09*s + 1)\n",
    "G31 = -34.68/(8.15*s + 1)\n",
    "G32 = 46.2/(10.9*s + 1)\n",
    "G33 = 0.87*(11.61*s + 1)/((3.89*s + 1)*(18.8*s + 1))\n",
    "\n",
    "G11d = Functions.Deadtime(G11, 2.6)\n",
    "G12d = Functions.Deadtime(G12, 3.5)\n",
    "G13d = Functions.Deadtime(G13, 1)\n",
    "G21d = Functions.Deadtime(G21, 6.5)\n",
    "G22d = Functions.Deadtime(G22, 3)\n",
    "G23d = Functions.Deadtime(G23, 1.2)\n",
    "G31d = Functions.Deadtime(G31, 9.2)\n",
    "G32d = Functions.Deadtime(G32, 9.4)\n",
    "G33d = Functions.Deadtime(G33, 1)\n",
    "G11d.num[0][0]"
   ]
  },
  {
   "cell_type": "code",
   "execution_count": 26,
   "metadata": {},
   "outputs": [],
   "source": [
    "Gd_num = [[G11d.num[0][0], G12d.num[0][0], G13d.num[0][0]],\n",
    "          [G21d.num[0][0], G22d.num[0][0], G23d.num[0][0]],\n",
    "          [G31d.num[0][0], G32d.num[0][0], G33d.num[0][0]]]\n",
    "Gd_den = [[G11d.den[0][0], G12d.den[0][0], G13d.den[0][0]],\n",
    "          [G21d.den[0][0], G22d.den[0][0], G23d.den[0][0]],\n",
    "          [G31d.den[0][0], G32d.den[0][0], G33d.den[0][0]]]"
   ]
  },
  {
   "cell_type": "code",
   "execution_count": 53,
   "metadata": {},
   "outputs": [],
   "source": [
    "G = control.tf(num, den)\n",
    "G_dead = control.tf(Gd_num, Gd_den)"
   ]
  },
  {
   "cell_type": "code",
   "execution_count": 49,
   "metadata": {},
   "outputs": [],
   "source": [
    "time = numpy.linspace(0,35,1000)\n",
    "u = numpy.array([[1],[0],[0]])\n",
    "t, y = control.step_response(T, time, input = 2)\n",
    "td, yd = control.step_response(Td, time, input = 2)"
   ]
  },
  {
   "cell_type": "code",
   "execution_count": 50,
   "metadata": {},
   "outputs": [
    {
     "data": {
      "text/plain": [
       "[<matplotlib.lines.Line2D at 0x7f2bda141860>]"
      ]
     },
     "execution_count": 50,
     "metadata": {},
     "output_type": "execute_result"
    },
    {
     "data": {
      "image/png": "[encoded data removed]",
      "text/plain": [
       "<Figure size 432x288 with 1 Axes>"
      ]
     },
     "metadata": {
      "needs_background": "light"
     },
     "output_type": "display_data"
    }
   ],
   "source": [
    "plt.plot(t, y[0,:], 'r--')\n",
    "plt.plot(t, y[1,:], 'b--')\n",
    "plt.plot(t, y[2,:], 'g--')\n",
    "\n",
    "plt.plot(t, yd[0,:], 'r')\n",
    "plt.plot(t, yd[1,:], 'b')\n",
    "plt.plot(t, yd[2,:], 'g')"
   ]
  },
  {
   "cell_type": "code",
   "execution_count": 54,
   "metadata": {},
   "outputs": [
    {
     "ename": "NotImplementedError",
     "evalue": "Bode is currently only implemented for SISO systems.",
     "output_type": "error",
     "traceback": [
      "\u001b[0;31m---------------------------------------------------------------------------\u001b[0m",
      "\u001b[0;31mNotImplementedError\u001b[0m                       Traceback (most recent call last)",
      "\u001b[0;32m<ipython-input-54-a85a11b7252f>\u001b[0m in \u001b[0;36m<module>\u001b[0;34m\u001b[0m\n\u001b[0;32m----> 1\u001b[0;31m \u001b[0mcontrol\u001b[0m\u001b[0;34m.\u001b[0m\u001b[0mbode\u001b[0m\u001b[0;34m(\u001b[0m\u001b[0mG\u001b[0m\u001b[0;34m)\u001b[0m\u001b[0;34m\u001b[0m\u001b[0;34m\u001b[0m\u001b[0m\n\u001b[0m",
      "\u001b[0;32m~/anaconda3/lib/python3.6/site-packages/control/freqplot.py\u001b[0m in \u001b[0;36mbode_plot\u001b[0;34m(syslist, omega, dB, Hz, deg, Plot, omega_limits, omega_num, *args, **kwargs)\u001b[0m\n\u001b[1;32m    141\u001b[0m         \u001b[0;32mif\u001b[0m \u001b[0;34m(\u001b[0m\u001b[0msys\u001b[0m\u001b[0;34m.\u001b[0m\u001b[0minputs\u001b[0m \u001b[0;34m>\u001b[0m \u001b[0;36m1\u001b[0m \u001b[0;32mor\u001b[0m \u001b[0msys\u001b[0m\u001b[0;34m.\u001b[0m\u001b[0moutputs\u001b[0m \u001b[0;34m>\u001b[0m \u001b[0;36m1\u001b[0m\u001b[0;34m)\u001b[0m\u001b[0;34m:\u001b[0m\u001b[0;34m\u001b[0m\u001b[0;34m\u001b[0m\u001b[0m\n\u001b[1;32m    142\u001b[0m             \u001b[0;31m# TODO: Add MIMO bode plots.\u001b[0m\u001b[0;34m\u001b[0m\u001b[0;34m\u001b[0m\u001b[0;34m\u001b[0m\u001b[0m\n\u001b[0;32m--> 143\u001b[0;31m             \u001b[0;32mraise\u001b[0m \u001b[0mNotImplementedError\u001b[0m\u001b[0;34m(\u001b[0m\u001b[0;34m\"Bode is currently only implemented for SISO systems.\"\u001b[0m\u001b[0;34m)\u001b[0m\u001b[0;34m\u001b[0m\u001b[0;34m\u001b[0m\u001b[0m\n\u001b[0m\u001b[1;32m    144\u001b[0m         \u001b[0;32melse\u001b[0m\u001b[0;34m:\u001b[0m\u001b[0;34m\u001b[0m\u001b[0;34m\u001b[0m\u001b[0m\n\u001b[1;32m    145\u001b[0m             \u001b[0momega_sys\u001b[0m \u001b[0;34m=\u001b[0m \u001b[0mnp\u001b[0m\u001b[0;34m.\u001b[0m\u001b[0marray\u001b[0m\u001b[0;34m(\u001b[0m\u001b[0momega\u001b[0m\u001b[0;34m)\u001b[0m\u001b[0;34m\u001b[0m\u001b[0;34m\u001b[0m\u001b[0m\n",
      "\u001b[0;31mNotImplementedError\u001b[0m: Bode is currently only implemented for SISO systems."
     ]
    }
   ],
   "source": [
    "control.bode(G)"
   ]
  },
  {
   "cell_type": "code",
   "execution_count": 14,
   "metadata": {},
   "outputs": [],
   "source": [
    "control.tf??"
   ]
  },
  {
   "cell_type": "code",
   "execution_count": null,
   "metadata": {},
   "outputs": [],
   "source": []
  }
 ],
 "metadata": {
  "kernelspec": {
   "display_name": "Python 3",
   "language": "python",
   "name": "python3"
  },
  "language_info": {
   "codemirror_mode": {
    "name": "ipython",
    "version": 3
   },
   "file_extension": ".py",
   "mimetype": "text/x-python",
   "name": "python",
   "nbconvert_exporter": "python",
   "pygments_lexer": "ipython3",
   "version": "3.6.8"
  }
 },
 "nbformat": 4,
 "nbformat_minor": 2
}
