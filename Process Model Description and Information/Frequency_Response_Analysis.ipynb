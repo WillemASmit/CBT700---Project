{
 "cells": [
  {
   "cell_type": "code",
   "execution_count": 50,
   "metadata": {},
   "outputs": [],
   "source": [
    "import numpy\n",
    "import sys\n",
    "sys.path.append(\"/home/wian/Documents/BEng_Hons/Skogestad-Python/\")\n",
    "import utils\n",
    "import matplotlib.pyplot as plt\n",
    "%matplotlib inline"
   ]
  },
  {
   "cell_type": "markdown",
   "metadata": {},
   "source": [
    "# Plotting Singular Values Across Frequency"
   ]
  },
  {
   "cell_type": "code",
   "execution_count": 25,
   "metadata": {},
   "outputs": [],
   "source": [
    "Kc = 1\n",
    "def G(s):\n",
    "    G11 = 4.29 * numpy.exp(-2.6 * s) / ((6.7 * s + 1))\n",
    "    G12 = -2.38 * numpy.exp(-3.5 * s) / ((8.64 * s + 1))\n",
    "    G13 = -2.156 * numpy.exp(-s) / ((9.06 * s + 1))\n",
    "    G21 = 7.215 * numpy.exp(-6.5 * s) / ((3.25 * s + 1))\n",
    "    G22 = -9.218 * numpy.exp(-3.0 * s) / ((5.0 * s + 1))\n",
    "    G23 = -2.156 * numpy.exp(-s) / ((9.06 * s + 1))\n",
    "    G31 = -0.5635 * numpy.exp(-9.2 * s) / ((8.15 * s + 1))\n",
    "    G32 =  0.451143 * numpy.exp(-9.4 * s) / ((10.9 * s + 1))\n",
    "    G33 = 1.1 * (10.1*s + 0.87) * numpy.exp(-s) / ((3.89 * s + 1)*(18.8*s + 1))\n",
    "    return numpy.diag([Kc, Kc, Kc])*numpy.matrix([[G11, G12, G13],\n",
    "                         [G21, G22, G23],\n",
    "                         [G31, G32, G33]])"
   ]
  },
  {
   "cell_type": "code",
   "execution_count": 26,
   "metadata": {},
   "outputs": [],
   "source": [
    "omega = numpy.logspace(-3,2,1000)"
   ]
  },
  {
   "cell_type": "code",
   "execution_count": 27,
   "metadata": {},
   "outputs": [],
   "source": [
    "s = omega*1j"
   ]
  },
  {
   "cell_type": "code",
   "execution_count": 28,
   "metadata": {},
   "outputs": [],
   "source": [
    "freq_responses = [G(si) for si in s]"
   ]
  },
  {
   "cell_type": "code",
   "execution_count": 29,
   "metadata": {},
   "outputs": [],
   "source": [
    "def sigma(Gfr):\n",
    "    return numpy.linalg.svd(Gfr)"
   ]
  },
  {
   "cell_type": "code",
   "execution_count": 30,
   "metadata": {},
   "outputs": [
    {
     "data": {
      "text/plain": [
       "(array([12.90885196,  2.20755321,  0.55958636]),\n",
       " array([0.02976827, 0.00291611, 0.00096745]))"
      ]
     },
     "execution_count": 30,
     "metadata": {},
     "output_type": "execute_result"
    }
   ],
   "source": [
    "sigmas = [sigma(G_fr)[1] for G_fr in freq_responses]\n",
    "sigmas[0], sigmas[-1]"
   ]
  },
  {
   "cell_type": "code",
   "execution_count": 31,
   "metadata": {},
   "outputs": [],
   "source": [
    "sigmas = numpy.array(sigmas)"
   ]
  },
  {
   "cell_type": "code",
   "execution_count": 32,
   "metadata": {},
   "outputs": [
    {
     "data": {
      "text/plain": [
       "[<matplotlib.lines.Line2D at 0x7f8a84322160>,\n",
       " <matplotlib.lines.Line2D at 0x7f8a84686518>,\n",
       " <matplotlib.lines.Line2D at 0x7f8a84686668>]"
      ]
     },
     "execution_count": 32,
     "metadata": {},
     "output_type": "execute_result"
    },
    {
     "data": {
      "image/png": "[encoded data removed]",
      "text/plain": [
       "<Figure size 432x288 with 1 Axes>"
      ]
     },
     "metadata": {
      "needs_background": "light"
     },
     "output_type": "display_data"
    }
   ],
   "source": [
    "plt.loglog(omega, sigmas)"
   ]
  },
  {
   "cell_type": "markdown",
   "metadata": {},
   "source": [
    "# Analysing the input and output directions across frequency"
   ]
  },
  {
   "cell_type": "code",
   "execution_count": 33,
   "metadata": {},
   "outputs": [],
   "source": [
    "def sinusoid(omega, r):\n",
    "    gain = numpy.abs(r)\n",
    "    phase = numpy.angle(r)\n",
    "    return gain*numpy.sin(ts*omega + phase)"
   ]
  },
  {
   "cell_type": "code",
   "execution_count": 34,
   "metadata": {},
   "outputs": [],
   "source": [
    "ts = numpy.linspace(0,10,1000)"
   ]
  },
  {
   "cell_type": "code",
   "execution_count": 35,
   "metadata": {},
   "outputs": [],
   "source": [
    "def dirplot(omega_e, index):\n",
    "    omega_c = 10**omega_e\n",
    "    plt.subplot(3,1,1)\n",
    "    plt.axvline(omega_c)\n",
    "    plt.loglog(omega, sigmas)\n",
    "    U, sigma, V = numpy.linalg.svd(G(omega_c*1j))\n",
    "    V = V.H\n",
    "    plt.subplot(3,1,2)\n",
    "    plt.plot(ts, sinusoid(omega_c, V[0,index]))\n",
    "    plt.plot(ts, sinusoid(omega_c, V[1,index]))\n",
    "    plt.subplot(3,1,3)\n",
    "    plt.plot(ts, sigma[0]*sinusoid(omega_c, U[0,index]))\n",
    "    plt.plot(ts, sigma[0]*sinusoid(omega_c, U[1,index]))"
   ]
  },
  {
   "cell_type": "code",
   "execution_count": 36,
   "metadata": {},
   "outputs": [],
   "source": [
    "from ipywidgets import interact"
   ]
  },
  {
   "cell_type": "code",
   "execution_count": 37,
   "metadata": {},
   "outputs": [
    {
     "data": {
      "application/vnd.jupyter.widget-view+json": {
       "model_id": "30657ca91ae840158114ab74bd4c9a69",
       "version_major": 2,
       "version_minor": 0
      },
      "text/plain": [
       "interactive(children=(FloatSlider(value=1.00005, description='omega_e', max=2.0, min=0.0001), Dropdown(descrip…"
      ]
     },
     "metadata": {},
     "output_type": "display_data"
    },
    {
     "data": {
      "text/plain": [
       "<function __main__.dirplot(omega_e, index)>"
      ]
     },
     "execution_count": 37,
     "metadata": {},
     "output_type": "execute_result"
    }
   ],
   "source": [
    "interact(dirplot, omega_e = (0.0001, 2), index=[0,1])"
   ]
  },
  {
   "cell_type": "code",
   "execution_count": 38,
   "metadata": {},
   "outputs": [
    {
     "data": {
      "text/plain": [
       "[<matplotlib.lines.Line2D at 0x7f8a79879748>]"
      ]
     },
     "execution_count": 38,
     "metadata": {},
     "output_type": "execute_result"
    },
    {
     "data": {
      "image/png": "[encoded data removed]",
      "text/plain": [
       "<Figure size 432x288 with 1 Axes>"
      ]
     },
     "metadata": {
      "needs_background": "light"
     },
     "output_type": "display_data"
    }
   ],
   "source": [
    "plt.plot(omega)"
   ]
  },
  {
   "cell_type": "markdown",
   "metadata": {},
   "source": [
    "# Determining bandwidth and Plotting S($\\sigma$)"
   ]
  },
  {
   "cell_type": "code",
   "execution_count": 39,
   "metadata": {},
   "outputs": [
    {
     "data": {
      "text/plain": [
       "matrix([[ 9.60244786e-01,  7.75167379e-03,  7.29728045e-02],\n",
       "        [-2.65334347e-03,  1.08280306e+00,  8.14275233e-02],\n",
       "        [ 5.72111834e-06, -3.20085968e-06,  9.56161077e-01]])"
      ]
     },
     "execution_count": 39,
     "metadata": {},
     "output_type": "execute_result"
    }
   ],
   "source": [
    "Kc = 1\n",
    "def S(s):\n",
    "    return numpy.linalg.inv(numpy.eye(3) + numpy.diag([Kc, Kc, Kc])*G(s))\n",
    "\n",
    "S(1)"
   ]
  },
  {
   "cell_type": "code",
   "execution_count": 40,
   "metadata": {},
   "outputs": [],
   "source": [
    "S_freq_responses = [S(si) for si in s]"
   ]
  },
  {
   "cell_type": "code",
   "execution_count": 41,
   "metadata": {},
   "outputs": [],
   "source": [
    "S_sigmas = [sigma(G_fr)[1] for G_fr in S_freq_responses]"
   ]
  },
  {
   "cell_type": "code",
   "execution_count": 42,
   "metadata": {},
   "outputs": [
    {
     "data": {
      "text/plain": [
       "[<matplotlib.lines.Line2D at 0x7f8a797c3b00>,\n",
       " <matplotlib.lines.Line2D at 0x7f8a841d4828>,\n",
       " <matplotlib.lines.Line2D at 0x7f8a841d4978>]"
      ]
     },
     "execution_count": 42,
     "metadata": {},
     "output_type": "execute_result"
    },
    {
     "data": {
      "image/png": "[encoded data removed]",
      "text/plain": [
       "<Figure size 432x288 with 1 Axes>"
      ]
     },
     "metadata": {
      "needs_background": "light"
     },
     "output_type": "display_data"
    }
   ],
   "source": [
    "S_sigmas = numpy.array(S_sigmas)\n",
    "plt.loglog(omega, S_sigmas)"
   ]
  },
  {
   "cell_type": "code",
   "execution_count": 43,
   "metadata": {},
   "outputs": [],
   "source": [
    "Kc = 1\n",
    "def T(s):\n",
    "    return G(s)*numpy.linalg.inv(numpy.eye(3) + numpy.diag([Kc, Kc, Kc])*G(s))"
   ]
  },
  {
   "cell_type": "code",
   "execution_count": 44,
   "metadata": {},
   "outputs": [],
   "source": [
    "T_freq_responses = [T(si) for si in s]"
   ]
  },
  {
   "cell_type": "code",
   "execution_count": 45,
   "metadata": {},
   "outputs": [],
   "source": [
    "T_sigmas = [sigma(G_fr)[1] for G_fr in T_freq_responses]"
   ]
  },
  {
   "cell_type": "code",
   "execution_count": 46,
   "metadata": {},
   "outputs": [
    {
     "data": {
      "text/plain": [
       "[<matplotlib.lines.Line2D at 0x7f8a7967b160>,\n",
       " <matplotlib.lines.Line2D at 0x7f8a79f7f710>,\n",
       " <matplotlib.lines.Line2D at 0x7f8a79f7f860>]"
      ]
     },
     "execution_count": 46,
     "metadata": {},
     "output_type": "execute_result"
    },
    {
     "data": {
      "image/png": "[encoded data removed]",
      "text/plain": [
       "<Figure size 432x288 with 1 Axes>"
      ]
     },
     "metadata": {
      "needs_background": "light"
     },
     "output_type": "display_data"
    }
   ],
   "source": [
    "T_sigmas = numpy.array(T_sigmas)\n",
    "plt.loglog(omega, T_sigmas)"
   ]
  },
  {
   "cell_type": "code",
   "execution_count": 47,
   "metadata": {},
   "outputs": [
    {
     "data": {
      "text/plain": [
       "2.0809368799665466"
      ]
     },
     "execution_count": 47,
     "metadata": {},
     "output_type": "execute_result"
    }
   ],
   "source": [
    "omega_c = numpy.interp(1, T_sigmas[:,0][::-1], omega[::-1])\n",
    "omega_c"
   ]
  },
  {
   "cell_type": "code",
   "execution_count": 48,
   "metadata": {},
   "outputs": [
    {
     "data": {
      "text/plain": [
       "[0.4172144678825603, 3.2042157059657788]"
      ]
     },
     "execution_count": 48,
     "metadata": {},
     "output_type": "execute_result"
    }
   ],
   "source": [
    "Bandwidth = [0,0]\n",
    "\n",
    "Bandwidth[0] = numpy.interp(1/numpy.sqrt(2), S_sigmas[:,1], omega)\n",
    "Bandwidth[1] = numpy.interp(1/numpy.sqrt(2), S_sigmas[:,2], omega)\n",
    "\n",
    "Bandwidth"
   ]
  },
  {
   "cell_type": "code",
   "execution_count": 52,
   "metadata": {},
   "outputs": [
    {
     "data": {
      "text/plain": [
       "array([[ 2.11123578, -0.84907281, -0.26216297],\n",
       "       [-0.59035419,  1.67068873, -0.08033454],\n",
       "       [-0.52088159,  0.17838408,  1.34249751]])"
      ]
     },
     "execution_count": 52,
     "metadata": {},
     "output_type": "execute_result"
    }
   ],
   "source": [
    "utils.RGA(G(0))"
   ]
  },
  {
   "cell_type": "code",
   "execution_count": 53,
   "metadata": {},
   "outputs": [
    {
     "name": "stderr",
     "output_type": "stream",
     "text": [
      "/home/wian/Documents/BEng_Hons/Skogestad-Python/utils.py:1514: ComplexWarning: Casting complex values to real discards the imaginary part\n",
      "  G = numpy.asmatrix(G).astype('float')\n"
     ]
    },
    {
     "data": {
      "text/plain": [
       "array([[-1.13275232,  2.6556345 , -0.52288218],\n",
       "       [ 2.22165023, -1.02529259, -0.19635764],\n",
       "       [-0.08889791, -0.63034191,  1.71923981]])"
      ]
     },
     "execution_count": 53,
     "metadata": {},
     "output_type": "execute_result"
    }
   ],
   "source": [
    "utils.RGA(G(omega_c*1j))"
   ]
  },
  {
   "cell_type": "code",
   "execution_count": 61,
   "metadata": {},
   "outputs": [],
   "source": [
    "RGA_numbers = [utils.RGA(G(s)).diagonal() for s in omega*1j]"
   ]
  },
  {
   "cell_type": "code",
   "execution_count": 65,
   "metadata": {},
   "outputs": [
    {
     "data": {
      "text/plain": [
       "[<matplotlib.lines.Line2D at 0x7f8a6ec056d8>,\n",
       " <matplotlib.lines.Line2D at 0x7f8a6ebc2748>,\n",
       " <matplotlib.lines.Line2D at 0x7f8a6ebc2898>]"
      ]
     },
     "execution_count": 65,
     "metadata": {},
     "output_type": "execute_result"
    },
    {
     "data": {
      "image/png": "[encoded data removed]",
      "text/plain": [
       "<Figure size 432x288 with 1 Axes>"
      ]
     },
     "metadata": {
      "needs_background": "light"
     },
     "output_type": "display_data"
    }
   ],
   "source": [
    "plt.loglog(omega, RGA_numbers)"
   ]
  },
  {
   "cell_type": "code",
   "execution_count": null,
   "metadata": {},
   "outputs": [],
   "source": []
  }
 ],
 "metadata": {
  "kernelspec": {
   "display_name": "Python 3",
   "language": "python",
   "name": "python3"
  },
  "language_info": {
   "codemirror_mode": {
    "name": "ipython",
    "version": 3
   },
   "file_extension": ".py",
   "mimetype": "text/x-python",
   "name": "python",
   "nbconvert_exporter": "python",
   "pygments_lexer": "ipython3",
   "version": "3.6.8"
  }
 },
 "nbformat": 4,
 "nbformat_minor": 2
}
