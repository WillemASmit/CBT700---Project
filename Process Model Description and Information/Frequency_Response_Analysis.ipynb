{
 "cells": [
  {
   "cell_type": "code",
   "execution_count": 1,
   "metadata": {},
   "outputs": [],
   "source": [
    "import numpy\n",
    "import sys\n",
    "# sys.path.append(\"/home/wian/Documents/BEng_Hons/Skogestad-Python/\")\n",
    "import utils\n",
    "import matplotlib.pyplot as plt\n",
    "%matplotlib inline"
   ]
  },
  {
   "cell_type": "markdown",
   "metadata": {},
   "source": [
    "# Plotting Singular Values Across Frequency"
   ]
  },
  {
   "cell_type": "code",
   "execution_count": 2,
   "metadata": {},
   "outputs": [],
   "source": [
    "Kc = 1\n",
    "def G(s):\n",
    "    G11 = 4.29 * numpy.exp(-2.6 * s) / ((6.7 * s + 1))\n",
    "    G12 = -2.38 * numpy.exp(-3.5 * s) / ((8.64 * s + 1))\n",
    "    G13 = -2.156 * numpy.exp(-s) / ((9.06 * s + 1))\n",
    "    G21 = 7.215 * numpy.exp(-6.5 * s) / ((3.25 * s + 1))\n",
    "    G22 = -9.218 * numpy.exp(-3.0 * s) / ((5.0 * s + 1))\n",
    "    G23 = -2.156 * numpy.exp(-s) / ((9.06 * s + 1))\n",
    "    G31 = -0.5635 * numpy.exp(-9.2 * s) / ((8.15 * s + 1))\n",
    "    G32 =  0.451143 * numpy.exp(-9.4 * s) / ((10.9 * s + 1))\n",
    "    G33 = 1.1 * (10.1*s + 0.87) * numpy.exp(-s) / ((3.89 * s + 1)*(18.8*s + 1))\n",
    "    return numpy.diag([Kc, Kc, Kc])*numpy.matrix([[G11, G12, G13],\n",
    "                         [G21, G22, G23],\n",
    "                         [G31, G32, G33]])"
   ]
  },
  {
   "cell_type": "code",
   "execution_count": 3,
   "metadata": {},
   "outputs": [],
   "source": [
    "omega = numpy.logspace(-3,3,1000)"
   ]
  },
  {
   "cell_type": "code",
   "execution_count": 4,
   "metadata": {},
   "outputs": [],
   "source": [
    "s = omega*1j"
   ]
  },
  {
   "cell_type": "code",
   "execution_count": 5,
   "metadata": {},
   "outputs": [],
   "source": [
    "freq_responses = [G(si) for si in s]"
   ]
  },
  {
   "cell_type": "code",
   "execution_count": 6,
   "metadata": {},
   "outputs": [],
   "source": [
    "def sigma(Gfr):\n",
    "    return numpy.linalg.svd(Gfr)"
   ]
  },
  {
   "cell_type": "code",
   "execution_count": 7,
   "metadata": {},
   "outputs": [
    {
     "data": {
      "text/plain": [
       "(array([12.90885196,  2.20755321,  0.55958636]),\n",
       " array([0.00293661, 0.00055712, 0.00014795]))"
      ]
     },
     "execution_count": 7,
     "metadata": {},
     "output_type": "execute_result"
    }
   ],
   "source": [
    "sigmas = [sigma(G_fr)[1] for G_fr in freq_responses]\n",
    "sigmas[0], sigmas[-1]"
   ]
  },
  {
   "cell_type": "code",
   "execution_count": 8,
   "metadata": {},
   "outputs": [],
   "source": [
    "sigmas = numpy.array(sigmas)"
   ]
  },
  {
   "cell_type": "code",
   "execution_count": 9,
   "metadata": {},
   "outputs": [
    {
     "data": {
      "text/plain": [
       "<matplotlib.legend.Legend at 0x12d2a003e80>"
      ]
     },
     "execution_count": 9,
     "metadata": {},
     "output_type": "execute_result"
    },
    {
     "data": {
      "image/png": "[encoded data removed]",
      "text/plain": [
       "<Figure size 432x288 with 1 Axes>"
      ]
     },
     "metadata": {
      "needs_background": "light"
     },
     "output_type": "display_data"
    }
   ],
   "source": [
    "plt.loglog(omega, sigmas)\n",
    "plt.ylabel('Magnitude')\n",
    "plt.xlabel(\"Frequency, $\\omega$\")\n",
    "plt.legend([\"$\\sigma_1$\", \"$\\sigma_2$\", \"$\\sigma_3$\"])"
   ]
  },
  {
   "cell_type": "markdown",
   "metadata": {},
   "source": [
    "# Analysing the input and output directions across frequency"
   ]
  },
  {
   "cell_type": "code",
   "execution_count": 10,
   "metadata": {},
   "outputs": [],
   "source": [
    "def sinusoid(omega, r):\n",
    "    gain = numpy.abs(r)\n",
    "    phase = numpy.angle(r)\n",
    "    return gain*numpy.sin(ts*omega + phase)"
   ]
  },
  {
   "cell_type": "code",
   "execution_count": 11,
   "metadata": {},
   "outputs": [],
   "source": [
    "ts = numpy.linspace(0,10,1000)"
   ]
  },
  {
   "cell_type": "code",
   "execution_count": 12,
   "metadata": {},
   "outputs": [],
   "source": [
    "def dirplot(omega_e, index):\n",
    "    omega_c = 10**omega_e\n",
    "    plt.subplot(3,1,1)\n",
    "    plt.axvline(omega_c)\n",
    "    plt.loglog(omega, sigmas)\n",
    "    U, sigma, V = numpy.linalg.svd(G(omega_c*1j))\n",
    "    V = V.H\n",
    "    plt.subplot(3,1,2)\n",
    "    plt.plot(ts, sinusoid(omega_c, V[0,index]))\n",
    "    plt.plot(ts, sinusoid(omega_c, V[1,index]))\n",
    "    plt.plot(ts, sinusoid(omega_c, V[2,index]))\n",
    "    plt.subplot(3,1,3)\n",
    "    plt.plot(ts, sigma[0]*sinusoid(omega_c, U[0,index]))\n",
    "    plt.plot(ts, sigma[0]*sinusoid(omega_c, U[1,index]))\n",
    "    plt.plot(ts, sigma[0]*sinusoid(omega_c, U[2,index]))"
   ]
  },
  {
   "cell_type": "code",
   "execution_count": 13,
   "metadata": {},
   "outputs": [],
   "source": [
    "from ipywidgets import interact"
   ]
  },
  {
   "cell_type": "code",
   "execution_count": 14,
   "metadata": {},
   "outputs": [
    {
     "data": {
      "application/vnd.jupyter.widget-view+json": {
       "model_id": "100b3393a0c1473e91c5fc7be3964dd2",
       "version_major": 2,
       "version_minor": 0
      },
      "text/plain": [
       "interactive(children=(FloatSlider(value=1.00005, description='omega_e', max=2.0, min=0.0001), Dropdown(descrip…"
      ]
     },
     "metadata": {},
     "output_type": "display_data"
    },
    {
     "data": {
      "text/plain": [
       "<function __main__.dirplot(omega_e, index)>"
      ]
     },
     "execution_count": 14,
     "metadata": {},
     "output_type": "execute_result"
    }
   ],
   "source": [
    "interact(dirplot, omega_e = (0.0001, 2), index=[0,1])"
   ]
  },
  {
   "cell_type": "code",
   "execution_count": 15,
   "metadata": {},
   "outputs": [
    {
     "data": {
      "text/plain": [
       "[<matplotlib.lines.Line2D at 0x12d2ac30828>]"
      ]
     },
     "execution_count": 15,
     "metadata": {},
     "output_type": "execute_result"
    },
    {
     "data": {
      "image/png": "[encoded data removed]",
      "text/plain": [
       "<Figure size 432x288 with 1 Axes>"
      ]
     },
     "metadata": {
      "needs_background": "light"
     },
     "output_type": "display_data"
    }
   ],
   "source": [
    "plt.plot(omega)"
   ]
  },
  {
   "cell_type": "markdown",
   "metadata": {},
   "source": [
    "# Determining bandwidth and Plotting S($\\sigma$)"
   ]
  },
  {
   "cell_type": "code",
   "execution_count": 16,
   "metadata": {},
   "outputs": [
    {
     "data": {
      "text/plain": [
       "matrix([[ 9.60244786e-01,  7.75167379e-03,  7.29728045e-02],\n",
       "        [-2.65334347e-03,  1.08280306e+00,  8.14275233e-02],\n",
       "        [ 5.72111834e-06, -3.20085968e-06,  9.56161077e-01]])"
      ]
     },
     "execution_count": 16,
     "metadata": {},
     "output_type": "execute_result"
    }
   ],
   "source": [
    "Kc = 1\n",
    "def S(s):\n",
    "    return numpy.linalg.inv(numpy.eye(3) + numpy.diag([Kc, Kc, Kc])*G(s))\n",
    "\n",
    "S(1)"
   ]
  },
  {
   "cell_type": "code",
   "execution_count": 17,
   "metadata": {},
   "outputs": [],
   "source": [
    "S_freq_responses = [S(si) for si in s]"
   ]
  },
  {
   "cell_type": "code",
   "execution_count": 18,
   "metadata": {},
   "outputs": [],
   "source": [
    "S_sigmas = [sigma(G_fr)[1] for G_fr in S_freq_responses]"
   ]
  },
  {
   "cell_type": "code",
   "execution_count": 19,
   "metadata": {},
   "outputs": [
    {
     "data": {
      "text/plain": [
       "[<matplotlib.lines.Line2D at 0x12d2ac7bf60>,\n",
       " <matplotlib.lines.Line2D at 0x12d2ace86d8>,\n",
       " <matplotlib.lines.Line2D at 0x12d2ace8828>]"
      ]
     },
     "execution_count": 19,
     "metadata": {},
     "output_type": "execute_result"
    },
    {
     "data": {
      "image/png": "[encoded data removed]",
      "text/plain": [
       "<Figure size 432x288 with 1 Axes>"
      ]
     },
     "metadata": {
      "needs_background": "light"
     },
     "output_type": "display_data"
    }
   ],
   "source": [
    "S_sigmas = numpy.array(S_sigmas)\n",
    "plt.loglog(omega, S_sigmas)"
   ]
  },
  {
   "cell_type": "code",
   "execution_count": 20,
   "metadata": {},
   "outputs": [],
   "source": [
    "Kc = 1\n",
    "def T(s):\n",
    "    return G(s)*numpy.linalg.inv(numpy.eye(3) + numpy.diag([Kc, Kc, Kc])*G(s))"
   ]
  },
  {
   "cell_type": "code",
   "execution_count": 21,
   "metadata": {},
   "outputs": [],
   "source": [
    "T_freq_responses = [T(si) for si in s]"
   ]
  },
  {
   "cell_type": "code",
   "execution_count": 22,
   "metadata": {},
   "outputs": [],
   "source": [
    "T_sigmas = [sigma(G_fr)[1] for G_fr in T_freq_responses]"
   ]
  },
  {
   "cell_type": "code",
   "execution_count": 23,
   "metadata": {},
   "outputs": [
    {
     "data": {
      "text/plain": [
       "[<matplotlib.lines.Line2D at 0x12d2aa6e978>,\n",
       " <matplotlib.lines.Line2D at 0x12d2ab31be0>,\n",
       " <matplotlib.lines.Line2D at 0x12d2ab316d8>]"
      ]
     },
     "execution_count": 23,
     "metadata": {},
     "output_type": "execute_result"
    },
    {
     "data": {
      "image/png": "[encoded data removed]",
      "text/plain": [
       "<Figure size 432x288 with 1 Axes>"
      ]
     },
     "metadata": {
      "needs_background": "light"
     },
     "output_type": "display_data"
    }
   ],
   "source": [
    "T_sigmas = numpy.array(T_sigmas)\n",
    "plt.loglog(omega, T_sigmas)"
   ]
  },
  {
   "cell_type": "code",
   "execution_count": 24,
   "metadata": {},
   "outputs": [
    {
     "data": {
      "text/plain": [
       "2.0815692768013747"
      ]
     },
     "execution_count": 24,
     "metadata": {},
     "output_type": "execute_result"
    }
   ],
   "source": [
    "omega_c = numpy.interp(1, T_sigmas[:,0][::-1], omega[::-1])\n",
    "omega_c"
   ]
  },
  {
   "cell_type": "markdown",
   "metadata": {},
   "source": [
    "# Determining Bandwidth from Singular Values and Deadtime Constraints"
   ]
  },
  {
   "cell_type": "code",
   "execution_count": 25,
   "metadata": {},
   "outputs": [
    {
     "data": {
      "text/plain": [
       "([0.02381743746638373, 0.41721301559911883, 3.204142000548081],\n",
       " array([0.38461538, 0.33333333, 1.        ]))"
      ]
     },
     "execution_count": 25,
     "metadata": {},
     "output_type": "execute_result"
    }
   ],
   "source": [
    "Bandwidth = [0,0,0]\n",
    "\n",
    "Bandwidth[0] = numpy.interp(1/numpy.sqrt(2), S_sigmas[:,0], omega)\n",
    "Bandwidth[1] = numpy.interp(1/numpy.sqrt(2), S_sigmas[:,1], omega)\n",
    "Bandwidth[2] = numpy.interp(1/numpy.sqrt(2), S_sigmas[:,2], omega)\n",
    "\n",
    "Deadtimes = numpy.array([[2.6, 6.5, 9.2],\n",
    "                          [3.5, 3.0, 9.4],\n",
    "                          [1.0, 1.2, 1.0]])\n",
    "\n",
    "DT_Bandwidths = 1/numpy.array([min(list(row)) for row in Deadtimes])\n",
    "\n",
    "Bandwidth, DT_Bandwidths"
   ]
  },
  {
   "cell_type": "code",
   "execution_count": 26,
   "metadata": {},
   "outputs": [
    {
     "data": {
      "text/plain": [
       "array([[ 2.11123578, -0.84907281, -0.26216297],\n",
       "       [-0.59035419,  1.67068873, -0.08033454],\n",
       "       [-0.52088159,  0.17838408,  1.34249751]])"
      ]
     },
     "execution_count": 26,
     "metadata": {},
     "output_type": "execute_result"
    }
   ],
   "source": [
    "utils.RGA(G(0))"
   ]
  },
  {
   "cell_type": "code",
   "execution_count": 42,
   "metadata": {},
   "outputs": [
    {
     "data": {
      "text/plain": [
       "array([[ 1.04590665, -0.27003426,  0.22412761],\n",
       "       [-0.22061303,  1.24205703, -0.02144401],\n",
       "       [ 0.17470638,  0.02797723,  0.7973164 ]])"
      ]
     },
     "execution_count": 42,
     "metadata": {},
     "output_type": "execute_result"
    }
   ],
   "source": [
    "utils.RGA(G(10**(1)*1j))"
   ]
  },
  {
   "cell_type": "code",
   "execution_count": 128,
   "metadata": {},
   "outputs": [],
   "source": [
    "omega_rga = numpy.logspace(-2, 1, 10000)\n",
    "RGA_numbers = [utils.RGA(G(s)).diagonal() for s in omega_rga*1j]"
   ]
  },
  {
   "cell_type": "code",
   "execution_count": 130,
   "metadata": {},
   "outputs": [
    {
     "data": {
      "text/plain": [
       "<matplotlib.legend.Legend at 0x12d3fb330f0>"
      ]
     },
     "execution_count": 130,
     "metadata": {},
     "output_type": "execute_result"
    },
    {
     "data": {
      "image/png": "[encoded data removed]",
      "text/plain": [
       "<Figure size 432x288 with 1 Axes>"
      ]
     },
     "metadata": {
      "needs_background": "light"
     },
     "output_type": "display_data"
    }
   ],
   "source": [
    "plt.loglog(omega_rga, numpy.abs(numpy.array(RGA_numbers)))\n",
    "# plt.xlim([0.01, 3])\n",
    "plt.xlabel(\"Frequency, $\\omega$\")\n",
    "plt.ylabel(\"Magnitude\")\n",
    "plt.legend([\"$\\Lambda_1$\", \"$\\Lambda_2$\", \"$\\Lambda_3$\"])"
   ]
  },
  {
   "cell_type": "markdown",
   "metadata": {},
   "source": [
    "# Singular Value Directions"
   ]
  },
  {
   "cell_type": "code",
   "execution_count": 12,
   "metadata": {},
   "outputs": [
    {
     "data": {
      "text/plain": [
       "(matrix([[-0.38647287+0.j,  0.88359766+0.j,  0.26437454+0.j],\n",
       "         [-0.91962075+0.j, -0.39101549+0.j, -0.03747753+0.j],\n",
       "         [ 0.07025949+0.j, -0.25760836+0.j,  0.96369162+0.j]]),\n",
       " array([12.90903513,  2.20758436,  0.55965665]),\n",
       " matrix([[-0.64548771-0.j,  0.50490461-0.j,  0.57307674-0.j],\n",
       "         [ 0.73038507-0.j,  0.62747324-0.j,  0.26984249-0.j],\n",
       "         [ 0.2233456 -0.j, -0.59274671-0.j,  0.77380106-0.j]]))"
      ]
     },
     "execution_count": 12,
     "metadata": {},
     "output_type": "execute_result"
    }
   ],
   "source": [
    "U, sigma, V = numpy.linalg.svd(G(0*1j))\n",
    "U, sigma, V.H"
   ]
  },
  {
   "cell_type": "code",
   "execution_count": 15,
   "metadata": {},
   "outputs": [
    {
     "data": {
      "text/plain": [
       "(matrix([[0.16048767, 0.96091335, 0.22558644],\n",
       "         [0.98699473, 0.15836703, 0.02759125],\n",
       "         [0.00922508, 0.2270802 , 0.97383237]]),\n",
       " array([[ 152.23199216,  -74.32050096,  116.11584423],\n",
       "        [ -86.40463901, -132.99214872,   58.33537228],\n",
       "        [ -30.06056377,  100.77324878,  111.22720232]]))"
      ]
     },
     "execution_count": 15,
     "metadata": {},
     "output_type": "execute_result"
    }
   ],
   "source": [
    "U, sigma, V = numpy.linalg.svd(G(1*1j))\n",
    "numpy.abs(U), numpy.angle(U)*180/numpy.pi"
   ]
  },
  {
   "cell_type": "code",
   "execution_count": 16,
   "metadata": {},
   "outputs": [
    {
     "data": {
      "text/plain": [
       "array([2.83280575, 0.59298718, 0.09924362])"
      ]
     },
     "execution_count": 16,
     "metadata": {},
     "output_type": "execute_result"
    }
   ],
   "source": [
    "sigma"
   ]
  },
  {
   "cell_type": "code",
   "execution_count": 18,
   "metadata": {},
   "outputs": [
    {
     "data": {
      "text/plain": [
       "(matrix([[0.77241327, 0.58302136, 0.25192028],\n",
       "         [0.63055041, 0.6584248 , 0.41095371],\n",
       "         [0.07605203, 0.47598621, 0.87615822]]),\n",
       " array([[  -0.        , -180.        ,   -0.        ],\n",
       "        [ -17.2465649 ,  -18.38611043,  166.98238032],\n",
       "        [-134.34152092, -121.15702813, -117.67681508]]))"
      ]
     },
     "execution_count": 18,
     "metadata": {},
     "output_type": "execute_result"
    }
   ],
   "source": [
    "numpy.abs(V.H), numpy.angle(V.H)*180/numpy.pi"
   ]
  },
  {
   "cell_type": "code",
   "execution_count": null,
   "metadata": {},
   "outputs": [],
   "source": []
  }
 ],
 "metadata": {
  "kernelspec": {
   "display_name": "Python 3",
   "language": "python",
   "name": "python3"
  },
  "language_info": {
   "codemirror_mode": {
    "name": "ipython",
    "version": 3
   },
   "file_extension": ".py",
   "mimetype": "text/x-python",
   "name": "python",
   "nbconvert_exporter": "python",
   "pygments_lexer": "ipython3",
   "version": "3.7.1"
  }
 },
 "nbformat": 4,
 "nbformat_minor": 2
}
