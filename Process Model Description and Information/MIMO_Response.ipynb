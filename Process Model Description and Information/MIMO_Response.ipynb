{
 "cells": [
  {
   "cell_type": "code",
   "execution_count": 1,
   "metadata": {},
   "outputs": [],
   "source": [
    "import numpy\n",
    "import sys\n",
    "import matplotlib.pyplot as plt\n",
    "%matplotlib inline\n",
    "sys.path.append('C://Users/Wian/Documents/BEng(Hons)/CBT/Skogestad-Python')"
   ]
  },
  {
   "cell_type": "code",
   "execution_count": 2,
   "metadata": {},
   "outputs": [],
   "source": [
    "import utils"
   ]
  },
  {
   "cell_type": "code",
   "execution_count": 3,
   "metadata": {},
   "outputs": [],
   "source": [
    "def Gd_f(s):\n",
    "    G11 = 4.2/(6.2*s + 1)*numpy.exp(-12*s)\n",
    "    G21 = 15.9/(6.9*s + 1)*numpy.exp(-10.5*s)\n",
    "    G31 = -0.8655/(7.01*s + 1)*numpy.exp(-0.6*s)\n",
    "    G12 = 2800*(-0.028952*s - 0.0011)/((7.85*s +1)*(14.63*s + 1))*numpy.exp(-s)\n",
    "    G22 = 2800*(-0.062784*s - 0.0032)/((7.29*s +1)*(8.94*s + 1))*numpy.exp(-3.44*s)\n",
    "    G32 = 2.24/(7.76*s + 1)#*numpy.exp(-2.6*s)\n",
    "    return numpy.matrix([[G11, G12],\n",
    "                         [G21, G22],\n",
    "                         [G31, G32]])"
   ]
  },
  {
   "cell_type": "code",
   "execution_count": 4,
   "metadata": {},
   "outputs": [],
   "source": [
    "Kc=1.0\n",
    "def G_f(s):\n",
    "    G11 = 4.29 / ((6.7 * s + 1))\n",
    "    G12 = -2.38 / ((8.64 * s + 1))\n",
    "    G13 = -2.156 / ((9.06 * s + 1))\n",
    "    G21 = 7.215 / ((3.25 * s + 1))\n",
    "    G22 = -9.218 / ((5.0 * s + 1))\n",
    "    G23 = -2.156 / ((9.06 * s + 1))\n",
    "    G31 = -0.5635 / ((8.15 * s + 1))\n",
    "    G32 =  0.451143 / ((10.9 * s + 1))\n",
    "    G33 = 1.1 * (10.1*s + 0.87) / ((3.89 * s + 1)*(18.8*s + 1))\n",
    "    return numpy.diag([Kc, Kc, Kc])*numpy.matrix([[G11, G12, G13],\n",
    "                         [G21, G22, G23],\n",
    "                         [G31, G32, G33]])"
   ]
  },
  {
   "cell_type": "code",
   "execution_count": 5,
   "metadata": {},
   "outputs": [],
   "source": [
    "s = utils.tf([1,0], [1])"
   ]
  },
  {
   "cell_type": "code",
   "execution_count": 6,
   "metadata": {},
   "outputs": [],
   "source": [
    "G = utils.mimotf(G_f(s))\n",
    "Gd = utils.mimotf(G_f(s))"
   ]
  },
  {
   "cell_type": "code",
   "execution_count": 9,
   "metadata": {},
   "outputs": [],
   "source": [
    "A,B,C,D = utils.tf2ss(G)"
   ]
  },
  {
   "cell_type": "code",
   "execution_count": 10,
   "metadata": {},
   "outputs": [
    {
     "data": {
      "text/plain": [
       "array([-0.12269938, -0.14925374, -0.30769231, -0.09174311, -0.11574075,\n",
       "       -0.2       , -0.05319149, -0.11037528, -0.25706941])"
      ]
     },
     "execution_count": 10,
     "metadata": {},
     "output_type": "execute_result"
    }
   ],
   "source": [
    "numpy.linalg.eigvals(A)"
   ]
  },
  {
   "cell_type": "code",
   "execution_count": 20,
   "metadata": {},
   "outputs": [],
   "source": [
    "Poles = utils.poles(G)\n",
    "Poles1 = utils.poles_and_zeros_of_square_tf_matrix(G)[0]"
   ]
  },
  {
   "cell_type": "code",
   "execution_count": 21,
   "metadata": {},
   "outputs": [],
   "source": [
    "Zeros = utils.zeros(G)"
   ]
  },
  {
   "cell_type": "code",
   "execution_count": 22,
   "metadata": {},
   "outputs": [
    {
     "data": {
      "text/plain": [
       "(array([-0.64184207+0.17709618j, -0.64184207-0.17709618j,\n",
       "        -0.38518023+0.38022877j, -0.38518023-0.38022877j,\n",
       "        -0.12974769+0.35474506j, -0.12974769-0.35474506j,\n",
       "         0.03627   +0.22946353j,  0.03627   -0.22946353j,\n",
       "        -0.30769229+0.j        , -0.25707026+0.j        ,\n",
       "        -0.23134224+0.j        , -0.20001205+0.j        ,\n",
       "        -0.09732688+0.05911886j, -0.09732688-0.05911886j,\n",
       "        -0.1510118 +0.00077571j, -0.1510118 -0.00077571j,\n",
       "        -0.12003412+0.00247529j, -0.12003412-0.00247529j,\n",
       "        -0.10746487+0.00212839j, -0.10746487-0.00212839j,\n",
       "        -0.09172515+0.j        , -0.05319149+0.j        ,\n",
       "         0.        +0.j        ,  0.        +0.j        ,\n",
       "         0.        +0.j        ]),\n",
       " [(-0.6716381061142586+0j),\n",
       "  (-0.4359478168677096+0.36653834536429625j),\n",
       "  (-0.6418420740856192-0.17709617703846972j),\n",
       "  (-0.4359478168677096-0.36653834536429625j),\n",
       "  (-0.6418420740856192+0.17709617703846972j),\n",
       "  (-0.3851802342532141+0.38022876533901107j),\n",
       "  (-0.3851802342532141-0.38022876533901107j),\n",
       "  (0.03627000059351826+0.2294635250742127j),\n",
       "  (0.03627000059351826-0.2294635250742127j),\n",
       "  (-0.12974769225404975+0.3547450609409506j),\n",
       "  (-0.07888248072514573+0.3361399949036825j),\n",
       "  (-0.07888248072514573-0.3361399949036825j),\n",
       "  (-0.12974769225404975-0.3547450609409506j)])"
      ]
     },
     "execution_count": 22,
     "metadata": {},
     "output_type": "execute_result"
    },
    {
     "data": {
      "image/png": "[encoded data removed]",
      "text/plain": [
       "<Figure size 432x288 with 1 Axes>"
      ]
     },
     "metadata": {
      "needs_background": "light"
     },
     "output_type": "display_data"
    }
   ],
   "source": [
    "plt.plot(numpy.real(Poles), numpy.imag(Poles), 'o')\n",
    "plt.plot(numpy.real(Poles1), numpy.imag(Poles1), 'x')\n",
    "Poles, Zeros"
   ]
  },
  {
   "cell_type": "code",
   "execution_count": 23,
   "metadata": {},
   "outputs": [],
   "source": [
    "utils.poles_and_zeros_of_square_tf_matrix??"
   ]
  },
  {
   "cell_type": "code",
   "execution_count": 24,
   "metadata": {},
   "outputs": [],
   "source": [
    "utils.mimotf2sym??"
   ]
  },
  {
   "cell_type": "code",
   "execution_count": null,
   "metadata": {},
   "outputs": [],
   "source": []
  }
 ],
 "metadata": {
  "kernelspec": {
   "display_name": "Python 3",
   "language": "python",
   "name": "python3"
  },
  "language_info": {
   "codemirror_mode": {
    "name": "ipython",
    "version": 3
   },
   "file_extension": ".py",
   "mimetype": "text/x-python",
   "name": "python",
   "nbconvert_exporter": "python",
   "pygments_lexer": "ipython3",
   "version": "3.7.1"
  }
 },
 "nbformat": 4,
 "nbformat_minor": 2
}
