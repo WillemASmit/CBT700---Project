{
 "cells": [
  {
   "cell_type": "code",
   "execution_count": 1,
   "metadata": {},
   "outputs": [],
   "source": [
    "import sympy\n",
    "import utils\n",
    "sympy.init_printing()"
   ]
  },
  {
   "cell_type": "markdown",
   "metadata": {},
   "source": [
    "# Model Basline Information\n",
    "\n",
    "The Model is in the form:\n",
    "\n",
    "$$ y(s) = G(s)u(s) + G_d(s)d(s)$$\n",
    "\n",
    "where,\n",
    "\n",
    "$$ y(s) = \\begin{bmatrix} y_1 = overhead \\space ethanol \\space fraction \\\\ y_2 = side \\space stream \\space ethanol \\space fraction \\\\ y_3 = tray \\space 19 \\space temperature \\end{bmatrix}$$\n",
    "\n",
    "$$ G(s) = \\begin{bmatrix} G_{11} & G_{12} & G_{13} \\\\ G_{21} & G_{22} & G_{23} \\\\ G_{31} & G_{32} & G_{33} \\end{bmatrix}$$\n",
    "\n",
    "$$ u(s) = \\begin{bmatrix} u_1 = reflow \\space flow \\space rate \\\\ u_2 = side \\space stream \\space pressure \\\\ u_3 = reboiler \\space stream \\space pressure \\end{bmatrix}$$\n",
    "\n",
    "$$ G_d(s) = \\begin{bmatrix} G_{d11} & G_{d12} \\\\ G_{d21} & G_{d22} \\\\ G_{d31} & G_{d32} \\end{bmatrix}$$\n",
    "\n",
    "$$ d(s) = \\begin{bmatrix} d_1 = feed \\space flow \\space rate \\\\ d_2 = feed \\space temperature \\end{bmatrix}$$\n",
    "\n",
    "The model is already linearized and represented in terms of deviation variables. The steady-state values of the various parameters are as follows:\n",
    "\n",
    "|Model Inputs|Values|Model Outputs|Values|Model Disturbances|Values|\n",
    "|------------|------|-------------|------|------------------|------|\n",
    "|u1          |0.18  |y1           |0.70  |d1                |0.8   |      \n",
    "|u2          |0.046 |y2           |0.52  |d2                |78    |\n",
    "|u3          |20    |y3           |92    |                 \n",
    "\n",
    "System constraints are given for the input variables. Scaling should therefore be carried out on the system. \n",
    "\n",
    "# Defining the System (as given)"
   ]
  },
  {
   "cell_type": "code",
   "execution_count": 2,
   "metadata": {},
   "outputs": [],
   "source": [
    "s = sympy.symbols('s')\n",
    "t = sympy.Symbol('y', positive=True)"
   ]
  },
  {
   "cell_type": "code",
   "execution_count": 3,
   "metadata": {},
   "outputs": [],
   "source": [
    "G11 = 0.66*sympy.exp(-2.6*s)/(6.7*s + 1)\n",
    "G12 = -0.61*sympy.exp(-3.5*s)/(8.64*s + 1)\n",
    "G13 = -0.0049*sympy.exp(-s)/(9.06*s + 1)\n",
    "G21 = 1.11*sympy.exp(-6.5*s)/(3.25*s + 1)\n",
    "G22 = -2.36*sympy.exp(-3*s)/(5*s + 1)\n",
    "G23 = -0.01*sympy.exp(-1.2*s)/(7.09*s + 1)\n",
    "G31 = -34.68*sympy.exp(-9.2*s)/(8.15*s + 1)\n",
    "G32 = 46.2*sympy.exp(-9.4*s)/(10.9*s + 1)\n",
    "G33 = 0.87*(11.61*s + 1)*sympy.exp(-s)/((3.89*s + 1)*(18.8*s + 1))"
   ]
  },
  {
   "cell_type": "code",
   "execution_count": 4,
   "metadata": {},
   "outputs": [],
   "source": [
    "Gd11 = 0.14*sympy.exp(-12*s)/(6.2*s + 1)\n",
    "Gd12 = -0.0011*(26.32*s + 1)*sympy.exp(-s)/((7.85*s + 1)*(14.63*s + 1))\n",
    "Gd21 = 0.53*sympy.exp(-10.5*s)/(6.9*s + 1)\n",
    "Gd22 = -0.0032*(19.62*s + 1)*sympy.exp(-3.44*s)/((7.29*s + 1)*(8.94*s + 1))\n",
    "Gd31 = -11.54*sympy.exp(-0.6*s)/(7.01*s + 1)\n",
    "Gd32 = 0.32*sympy.exp(-2.6*s)/(7.76*s +1)"
   ]
  },
  {
   "cell_type": "code",
   "execution_count": 5,
   "metadata": {},
   "outputs": [
    {
     "data": {
      "image/png": "[encoded data removed]",
      "text/latex": [
       "$$\\left ( \\left[\\begin{matrix}\\frac{0.66 e^{- 2.6 s}}{6.7 s + 1} & - \\frac{0.61 e^{- 3.5 s}}{8.64 s + 1} & - \\frac{0.0049 e^{- s}}{9.06 s + 1}\\\\\\frac{1.11 e^{- 6.5 s}}{3.25 s + 1} & - \\frac{2.36 e^{- 3 s}}{5 s + 1} & - \\frac{0.0049 e^{- s}}{9.06 s + 1}\\\\- \\frac{34.68 e^{- 9.2 s}}{8.15 s + 1} & \\frac{46.2 e^{- 9.4 s}}{10.9 s + 1} & \\frac{\\left(10.1007 s + 0.87\\right) e^{- s}}{\\left(3.89 s + 1\\right) \\left(18.8 s + 1\\right)}\\end{matrix}\\right], \\quad \\left[\\begin{matrix}\\frac{0.14 e^{- 12 s}}{6.2 s + 1} & \\frac{\\left(- 0.028952 s - 0.0011\\right) e^{- s}}{\\left(7.85 s + 1\\right) \\left(14.63 s + 1\\right)}\\\\\\frac{0.53 e^{- 10.5 s}}{6.9 s + 1} & \\frac{\\left(- 0.062784 s - 0.0032\\right) e^{- 3.44 s}}{\\left(7.29 s + 1\\right) \\left(8.94 s + 1\\right)}\\\\- \\frac{11.54 e^{- 0.6 s}}{7.01 s + 1} & \\frac{0.32 e^{- 2.6 s}}{7.76 s + 1}\\end{matrix}\\right]\\right )$$"
      ],
      "text/plain": [
       "⎛⎡       -2.6⋅s           -3.5⋅s                  -s        ⎤  ⎡        -12⋅s \n",
       "⎜⎢ 0.66⋅ℯ          -0.61⋅ℯ               -0.0049⋅ℯ          ⎥  ⎢  0.14⋅ℯ      \n",
       "⎜⎢ ────────────    ──────────────        ────────────       ⎥  ⎢  ─────────── \n",
       "⎜⎢  6.7⋅s + 1        8.64⋅s + 1           9.06⋅s + 1        ⎥  ⎢   6.2⋅s + 1  \n",
       "⎜⎢                                                          ⎥  ⎢              \n",
       "⎜⎢       -6.5⋅s            -3⋅s                   -s        ⎥  ⎢       -10.5⋅s\n",
       "⎜⎢ 1.11⋅ℯ           -2.36⋅ℯ              -0.0049⋅ℯ          ⎥  ⎢ 0.53⋅ℯ       \n",
       "⎜⎢ ────────────     ────────────         ────────────       ⎥, ⎢ ─────────────\n",
       "⎜⎢  3.25⋅s + 1        5⋅s + 1             9.06⋅s + 1        ⎥  ⎢   6.9⋅s + 1  \n",
       "⎜⎢                                                          ⎥  ⎢              \n",
       "⎜⎢        -9.2⋅s          -9.4⋅s                         -s ⎥  ⎢        -0.6⋅s\n",
       "⎜⎢-34.68⋅ℯ          46.2⋅ℯ           (10.1007⋅s + 0.87)⋅ℯ   ⎥  ⎢-11.54⋅ℯ      \n",
       "⎜⎢───────────────   ────────────   ─────────────────────────⎥  ⎢──────────────\n",
       "⎝⎣   8.15⋅s + 1      10.9⋅s + 1    (3.89⋅s + 1)⋅(18.8⋅s + 1)⎦  ⎣   7.01⋅s + 1 \n",
       "\n",
       "                             -s   ⎤⎞\n",
       "     (-0.028952⋅s - 0.0011)⋅ℯ     ⎥⎟\n",
       "     ──────────────────────────   ⎥⎟\n",
       "     (7.85⋅s + 1)⋅(14.63⋅s + 1)   ⎥⎟\n",
       "                                  ⎥⎟\n",
       "                           -3.44⋅s⎥⎟\n",
       "   (-0.062784⋅s - 0.0032)⋅ℯ       ⎥⎟\n",
       "   ───────────────────────────────⎥⎟\n",
       "      (7.29⋅s + 1)⋅(8.94⋅s + 1)   ⎥⎟\n",
       "                                  ⎥⎟\n",
       "                  -2.6⋅s          ⎥⎟\n",
       "            0.32⋅ℯ                ⎥⎟\n",
       "─           ────────────          ⎥⎟\n",
       "             7.76⋅s + 1           ⎦⎠"
      ]
     },
     "execution_count": 5,
     "metadata": {},
     "output_type": "execute_result"
    }
   ],
   "source": [
    "G_hat = sympy.Matrix([[G11, G12, G13],\n",
    "                  [G21, G22, G13],\n",
    "                  [G31, G32, G33]])\n",
    "\n",
    "Gd_hat = sympy.Matrix([[Gd11, Gd12],\n",
    "                   [Gd21, Gd22],\n",
    "                   [Gd31, Gd32]])\n",
    "\n",
    "G_hat, Gd_hat"
   ]
  },
  {
   "cell_type": "markdown",
   "metadata": {},
   "source": [
    "# Scaling the Sytem\n",
    "\n",
    "The following table provides the constraints of the input/manipulated variables. The constraints are mainly due to operational and physical constraints (control valves being fully open and closed, rated safety margins on pressure).\n",
    "\n",
    "|Manipulated Variable       |Lower Constraint|Upper Constraint|Steady State Value|\n",
    "|---------------------------|----------------|----------------|------------------|\n",
    "|u1, Reflux Flow Rate       |0.068           |0.245           |0.18              |\n",
    "|u2, Side Stream Flow Rate  |0.00694         |0.1             |0.046             |\n",
    "|u3, Reboiler Steam Pressure|15.6            |34              |20               \n",
    "\n",
    "The following table sumurises the ranges of the controlled/measured variables:\n",
    "\n",
    "|Controlled Variable                  |Maximum Set Point Change|Steady State Value|\n",
    "|-------------------------------------|------------------------|------------------|\n",
    "|y1, Overhead Mole Fraction Ethanol   |0.05                    |0.7               |\n",
    "|y2, Side Stream Mole Fraction Ethanol|0.1                     |0.52              |\n",
    "|y3, Temperature on Tray #19          |6                       |92              \n",
    "\n",
    "The following table summarises the ranges for the disturbance variables:\n",
    "\n",
    "|Disturbance Variable       |Lower Constraint|Upper Constraint|Steady State Value|\n",
    "|---------------------------|----------------|----------------|------------------|\n",
    "|d1, Feed Flow Rate         |0.65             |1.0             |0.8               |\n",
    "|d2, Feed Temperature       |60              |95             |78             "
   ]
  },
  {
   "cell_type": "code",
   "execution_count": 7,
   "metadata": {},
   "outputs": [
    {
     "data": {
      "image/png": "[encoded data removed]",
      "text/latex": [
       "$$\\left ( \\left[\\begin{matrix}0.01 & 0 & 0\\\\0 & 0.01 & 0\\\\0 & 0 & 4\\end{matrix}\\right], \\quad \\left[\\begin{matrix}0.065 & 0 & 0\\\\0 & 0.03906 & 0\\\\0 & 0 & 4.4\\end{matrix}\\right], \\quad \\left[\\begin{matrix}0.2 & 0\\\\0 & 18\\end{matrix}\\right], \\quad \\left[\\begin{matrix}0.05 & 0 & 0\\\\0 & 0.1 & 0\\\\0 & 0 & 6\\end{matrix}\\right]\\right )$$"
      ],
      "text/plain": [
       "⎛⎡0.01   0    0⎤  ⎡0.065     0      0 ⎤             ⎡0.05   0   0⎤⎞\n",
       "⎜⎢             ⎥  ⎢                   ⎥  ⎡0.2  0 ⎤  ⎢            ⎥⎟\n",
       "⎜⎢ 0    0.01  0⎥, ⎢  0    0.03906   0 ⎥, ⎢       ⎥, ⎢ 0    0.1  0⎥⎟\n",
       "⎜⎢             ⎥  ⎢                   ⎥  ⎣ 0   18⎦  ⎢            ⎥⎟\n",
       "⎝⎣ 0     0    4⎦  ⎣  0       0     4.4⎦             ⎣ 0     0   6⎦⎠"
      ]
     },
     "execution_count": 7,
     "metadata": {},
     "output_type": "execute_result"
    }
   ],
   "source": [
    "u1_max = min(0.245-0.18, 0.18-0.068)\n",
    "u2_max = min(0.1-0.046, 0.046 - 0.00694)\n",
    "u3_max = min(34-20, 20-15.6)\n",
    "\n",
    "y1_max = 0.05\n",
    "y2_max = 0.1\n",
    "y3_max = 6\n",
    "\n",
    "d1_max = max(1.0-0.8, 0.8-0.65)\n",
    "d2_max = max(95-78, 78-60)\n",
    "\n",
    "De = sympy.diag(0.01,0.01, 4)\n",
    "Du = sympy.Matrix([[u1_max, 0, 0], [0, u2_max, 0], [0, 0, u3_max]])\n",
    "Dd = sympy.Matrix([[d1_max, 0], [0, d2_max]])\n",
    "Dr = sympy.Matrix([[y1_max, 0, 0], [0, y2_max, 0], [0, 0, y3_max]])\n",
    "\n",
    "De, Du, Dd, Dr"
   ]
  },
  {
   "cell_type": "code",
   "execution_count": 8,
   "metadata": {},
   "outputs": [
    {
     "data": {
      "image/png": "[encoded data removed]",
      "text/latex": [
       "$$\\left ( \\left[\\begin{matrix}\\frac{4.29 e^{- 2.6 s}}{6.7 s + 1} & - \\frac{2.38266 e^{- 3.5 s}}{8.64 s + 1} & - \\frac{2.156 e^{- s}}{9.06 s + 1}\\\\\\frac{7.215 e^{- 6.5 s}}{3.25 s + 1} & - \\frac{9.21816 e^{- 3 s}}{5 s + 1} & - \\frac{2.156 e^{- s}}{9.06 s + 1}\\\\- \\frac{0.56355 e^{- 9.2 s}}{8.15 s + 1} & \\frac{0.451143 e^{- 9.4 s}}{10.9 s + 1} & \\frac{1.1 \\left(10.1007 s + 0.87\\right) e^{- s}}{\\left(3.89 s + 1\\right) \\left(18.8 s + 1\\right)}\\end{matrix}\\right], \\quad \\left[\\begin{matrix}\\frac{2.8 e^{- 12 s}}{6.2 s + 1} & \\frac{1800.0 \\left(- 0.028952 s - 0.0011\\right) e^{- s}}{\\left(7.85 s + 1\\right) \\left(14.63 s + 1\\right)}\\\\\\frac{10.6 e^{- 10.5 s}}{6.9 s + 1} & \\frac{1800.0 \\left(- 0.062784 s - 0.0032\\right) e^{- 3.44 s}}{\\left(7.29 s + 1\\right) \\left(8.94 s + 1\\right)}\\\\- \\frac{0.577 e^{- 0.6 s}}{7.01 s + 1} & \\frac{1.44 e^{- 2.6 s}}{7.76 s + 1}\\end{matrix}\\right], \\quad \\left[\\begin{matrix}5.0 & 0 & 0\\\\0 & 10.0 & 0\\\\0 & 0 & \\frac{3}{2}\\end{matrix}\\right]\\right )$$"
      ],
      "text/plain": [
       "⎛⎡        -2.6⋅s               -3.5⋅s                  -s         ⎤  ⎡       -\n",
       "⎜⎢  4.29⋅ℯ           -2.38266⋅ℯ                -2.156⋅ℯ           ⎥  ⎢  2.8⋅ℯ \n",
       "⎜⎢  ────────────     ─────────────────         ───────────        ⎥  ⎢  ──────\n",
       "⎜⎢   6.7⋅s + 1           8.64⋅s + 1             9.06⋅s + 1        ⎥  ⎢  6.2⋅s \n",
       "⎜⎢                                                                ⎥  ⎢        \n",
       "⎜⎢         -6.5⋅s               -3⋅s                   -s         ⎥  ⎢       -\n",
       "⎜⎢  7.215⋅ℯ           -9.21816⋅ℯ               -2.156⋅ℯ           ⎥  ⎢ 10.6⋅ℯ \n",
       "⎜⎢  ─────────────     ───────────────          ───────────        ⎥, ⎢ ───────\n",
       "⎜⎢    3.25⋅s + 1          5⋅s + 1               9.06⋅s + 1        ⎥  ⎢   6.9⋅s\n",
       "⎜⎢                                                                ⎥  ⎢        \n",
       "⎜⎢          -9.2⋅s             -9.4⋅s                           -s⎥  ⎢        \n",
       "⎜⎢-0.56355⋅ℯ         0.451143⋅ℯ         1.1⋅(10.1007⋅s + 0.87)⋅ℯ  ⎥  ⎢-0.577⋅ℯ\n",
       "⎜⎢─────────────────  ────────────────   ──────────────────────────⎥  ⎢────────\n",
       "⎝⎣    8.15⋅s + 1        10.9⋅s + 1      (3.89⋅s + 1)⋅(18.8⋅s + 1) ⎦  ⎣   7.01⋅\n",
       "\n",
       "12⋅s                                      -s   ⎤                  ⎞\n",
       "           1800.0⋅(-0.028952⋅s - 0.0011)⋅ℯ     ⎥                  ⎟\n",
       "────       ─────────────────────────────────   ⎥                  ⎟\n",
       "+ 1            (7.85⋅s + 1)⋅(14.63⋅s + 1)      ⎥                  ⎟\n",
       "                                               ⎥                  ⎟\n",
       "10.5⋅s                                  -3.44⋅s⎥  ⎡5.0   0     0 ⎤⎟\n",
       "         1800.0⋅(-0.062784⋅s - 0.0032)⋅ℯ       ⎥  ⎢              ⎥⎟\n",
       "──────   ──────────────────────────────────────⎥, ⎢ 0   10.0   0 ⎥⎟\n",
       " + 1           (7.29⋅s + 1)⋅(8.94⋅s + 1)       ⎥  ⎢              ⎥⎟\n",
       "                                               ⎥  ⎣ 0    0    3/2⎦⎟\n",
       "-0.6⋅s                      -2.6⋅s             ⎥                  ⎟\n",
       "                      1.44⋅ℯ                   ⎥                  ⎟\n",
       "───────               ────────────             ⎥                  ⎟\n",
       "s + 1                  7.76⋅s + 1              ⎦                  ⎠"
      ]
     },
     "execution_count": 8,
     "metadata": {},
     "output_type": "execute_result"
    }
   ],
   "source": [
    "G = De.inv()*G_hat*Du\n",
    "Gd = De.inv()*Gd_hat*Dd\n",
    "R = De.inv()*Dr\n",
    "G,Gd,R"
   ]
  },
  {
   "cell_type": "code",
   "execution_count": null,
   "metadata": {},
   "outputs": [],
   "source": []
  }
 ],
 "metadata": {
  "kernelspec": {
   "display_name": "Python 3",
   "language": "python",
   "name": "python3"
  },
  "language_info": {
   "codemirror_mode": {
    "name": "ipython",
    "version": 3
   },
   "file_extension": ".py",
   "mimetype": "text/x-python",
   "name": "python",
   "nbconvert_exporter": "python",
   "pygments_lexer": "ipython3",
   "version": "3.7.1"
  }
 },
 "nbformat": 4,
 "nbformat_minor": 2
}
