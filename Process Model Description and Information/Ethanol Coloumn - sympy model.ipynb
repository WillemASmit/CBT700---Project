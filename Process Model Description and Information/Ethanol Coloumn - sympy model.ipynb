{
 "cells": [
  {
   "cell_type": "code",
   "execution_count": 1,
   "metadata": {},
   "outputs": [],
   "source": [
    "import sympy\n",
    "sympy.init_printing()"
   ]
  },
  {
   "cell_type": "code",
   "execution_count": 2,
   "metadata": {},
   "outputs": [],
   "source": [
    "s = sympy.symbols('s')"
   ]
  },
  {
   "cell_type": "code",
   "execution_count": 4,
   "metadata": {},
   "outputs": [],
   "source": [
    "G11 = 0.66*sympy.exp(-2.6*s)/(6.7*s + 1)\n",
    "G12 = -0.61*sympy.exp(-3.5*s)/(8.64*s + 1)\n",
    "G13 = -0.0049*sympy.exp(-s)/(9.06*s + 1)\n",
    "G21 = 1.11*sympy.exp(-6.5*s)/(3.25*s + 1)\n",
    "G22 = -2.36*sympy.exp(-3*s)/(5*s + 1)\n",
    "G23 = -0.01*sympy.exp(-1.2*s)/(7.09*s + 1)\n",
    "G31 = -34.68*sympy.exp(-9.2*s)/(8.15*s + 1)\n",
    "G32 = 46.2*sympy.exp(-9.4*s)/(10.9*s + 1)\n",
    "G33 = 0.87*(11.61*s + 1)*sympy.exp(-s)/((3.89*s + 1)*(18.8*s + 1))"
   ]
  },
  {
   "cell_type": "code",
   "execution_count": 8,
   "metadata": {},
   "outputs": [
    {
     "data": {
      "text/latex": [
       "$$\\left[\\begin{matrix}\\frac{0.66 e^{- 2.6 s}}{6.7 s + 1} & - \\frac{0.61 e^{- 3.5 s}}{8.64 s + 1} & - \\frac{0.0049 e^{- s}}{9.06 s + 1}\\\\\\frac{1.11 e^{- 6.5 s}}{3.25 s + 1} & - \\frac{2.36 e^{- 3 s}}{5 s + 1} & - \\frac{0.0049 e^{- s}}{9.06 s + 1}\\\\- \\frac{34.68 e^{- 9.2 s}}{8.15 s + 1} & \\frac{46.2 e^{- 9.4 s}}{10.9 s + 1} & \\frac{\\left(10.1007 s + 0.87\\right) e^{- s}}{\\left(3.89 s + 1\\right) \\left(18.8 s + 1\\right)}\\end{matrix}\\right]$$"
      ],
      "text/plain": [
       "⎡       -2.6⋅s           -3.5⋅s                  -s        ⎤\n",
       "⎢ 0.66⋅ℯ          -0.61⋅ℯ               -0.0049⋅ℯ          ⎥\n",
       "⎢ ────────────    ──────────────        ────────────       ⎥\n",
       "⎢  6.7⋅s + 1        8.64⋅s + 1           9.06⋅s + 1        ⎥\n",
       "⎢                                                          ⎥\n",
       "⎢       -6.5⋅s            -3⋅s                   -s        ⎥\n",
       "⎢ 1.11⋅ℯ           -2.36⋅ℯ              -0.0049⋅ℯ          ⎥\n",
       "⎢ ────────────     ────────────         ────────────       ⎥\n",
       "⎢  3.25⋅s + 1        5⋅s + 1             9.06⋅s + 1        ⎥\n",
       "⎢                                                          ⎥\n",
       "⎢        -9.2⋅s          -9.4⋅s                         -s ⎥\n",
       "⎢-34.68⋅ℯ          46.2⋅ℯ           (10.1007⋅s + 0.87)⋅ℯ   ⎥\n",
       "⎢───────────────   ────────────   ─────────────────────────⎥\n",
       "⎣   8.15⋅s + 1      10.9⋅s + 1    (3.89⋅s + 1)⋅(18.8⋅s + 1)⎦"
      ]
     },
     "execution_count": 8,
     "metadata": {},
     "output_type": "execute_result"
    }
   ],
   "source": [
    "G = sympy.Matrix([[G11, G12, G13],\n",
    "     [G21, G22, G13],\n",
    "     [G31, G32, G33]])\n",
    "G"
   ]
  },
  {
   "cell_type": "code",
   "execution_count": null,
   "metadata": {},
   "outputs": [],
   "source": []
  }
 ],
 "metadata": {
  "kernelspec": {
   "display_name": "Python 3",
   "language": "python",
   "name": "python3"
  },
  "language_info": {
   "codemirror_mode": {
    "name": "ipython",
    "version": 3
   },
   "file_extension": ".py",
   "mimetype": "text/x-python",
   "name": "python",
   "nbconvert_exporter": "python",
   "pygments_lexer": "ipython3",
   "version": "3.7.1"
  }
 },
 "nbformat": 4,
 "nbformat_minor": 2
}
