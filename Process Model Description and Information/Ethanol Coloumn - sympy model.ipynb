{
 "cells": [
  {
   "cell_type": "code",
   "execution_count": 43,
   "metadata": {},
   "outputs": [],
   "source": [
    "import sympy\n",
    "sympy.init_printing()"
   ]
  },
  {
   "cell_type": "markdown",
   "metadata": {},
   "source": [
    "# Model Basline Information\n",
    "\n",
    "The Model is in the form:\n",
    "\n",
    "$$ y(s) = G(s)u(s) + G_d(s)d(s)$$\n",
    "\n",
    "where,\n",
    "\n",
    "$$ y(s) = \\begin{bmatrix} y_1 = overhead \\space ethanol \\space fraction \\\\ y_2 = side \\space stream \\space ethanol \\space fraction \\\\ y_3 = tray \\space 19 \\space temperature \\end{bmatrix}$$\n",
    "\n",
    "$$ G(s) = \\begin{bmatrix} G_{11} & G_{12} & G_{13} \\\\ G_{21} & G_{22} & G_{23} \\\\ G_{31} & G_{32} & G_{33} \\end{bmatrix}$$\n",
    "\n",
    "$$ u(s) = \\begin{bmatrix} u_1 = reflow \\space flow \\space rate \\\\ u_2 = side \\space stream \\space pressure \\\\ u_3 = reboiler \\space stream \\space pressure \\end{bmatrix}$$\n",
    "\n",
    "$$ G_d(s) = \\begin{bmatrix} G_{d11} & G_{d12} \\\\ G_{d21} & G_{d22} \\\\ G_{d31} & G_{d32} \\end{bmatrix}$$\n",
    "\n",
    "$$ d(s) = \\begin{bmatrix} d_1 = feed \\space flow \\space rate \\\\ d_2 = feed \\space temperature \\end{bmatrix}$$\n",
    "\n",
    "The model is already linearized and represented in terms of deviation variables. The steady-state values of the various parameters are as follows:\n",
    "\n",
    "|Model Inputs|Values|Model Outputs|Values|Model Disturbances|Values|\n",
    "|------------|------|-------------|------|------------------|------|\n",
    "|u1          |0.18  |y1           |0.70  |d1                |0.8   |      \n",
    "|u2          |0.046 |y2           |0.52  |d2                |78    |\n",
    "|u3          |20    |y3           |92    |                 \n",
    "\n",
    "System constraints are given for the input variables. Scaling should therefore be carried out on the system. "
   ]
  },
  {
   "cell_type": "code",
   "execution_count": 14,
   "metadata": {},
   "outputs": [],
   "source": [
    "s, t = sympy.symbols('s, t')"
   ]
  },
  {
   "cell_type": "code",
   "execution_count": 15,
   "metadata": {},
   "outputs": [],
   "source": [
    "G11 = 0.66*sympy.exp(-2.6*s)/(6.7*s + 1)\n",
    "G12 = -0.61*sympy.exp(-3.5*s)/(8.64*s + 1)\n",
    "G13 = -0.0049*sympy.exp(-s)/(9.06*s + 1)\n",
    "G21 = 1.11*sympy.exp(-6.5*s)/(3.25*s + 1)\n",
    "G22 = -2.36*sympy.exp(-3*s)/(5*s + 1)\n",
    "G23 = -0.01*sympy.exp(-1.2*s)/(7.09*s + 1)\n",
    "G31 = -34.68*sympy.exp(-9.2*s)/(8.15*s + 1)\n",
    "G32 = 46.2*sympy.exp(-9.4*s)/(10.9*s + 1)\n",
    "G33 = 0.87*(11.61*s + 1)*sympy.exp(-s)/((3.89*s + 1)*(18.8*s + 1))"
   ]
  },
  {
   "cell_type": "code",
   "execution_count": 16,
   "metadata": {},
   "outputs": [
    {
     "data": {
      "text/latex": [
       "$$\\left[\\begin{matrix}\\frac{0.66 e^{- 2.6 s}}{6.7 s + 1} & - \\frac{0.61 e^{- 3.5 s}}{8.64 s + 1} & - \\frac{0.0049 e^{- s}}{9.06 s + 1}\\\\\\frac{1.11 e^{- 6.5 s}}{3.25 s + 1} & - \\frac{2.36 e^{- 3 s}}{5 s + 1} & - \\frac{0.0049 e^{- s}}{9.06 s + 1}\\\\- \\frac{34.68 e^{- 9.2 s}}{8.15 s + 1} & \\frac{46.2 e^{- 9.4 s}}{10.9 s + 1} & \\frac{\\left(10.1007 s + 0.87\\right) e^{- s}}{\\left(3.89 s + 1\\right) \\left(18.8 s + 1\\right)}\\end{matrix}\\right]$$"
      ],
      "text/plain": [
       "⎡       -2.6⋅s           -3.5⋅s                  -s        ⎤\n",
       "⎢ 0.66⋅ℯ          -0.61⋅ℯ               -0.0049⋅ℯ          ⎥\n",
       "⎢ ────────────    ──────────────        ────────────       ⎥\n",
       "⎢  6.7⋅s + 1        8.64⋅s + 1           9.06⋅s + 1        ⎥\n",
       "⎢                                                          ⎥\n",
       "⎢       -6.5⋅s            -3⋅s                   -s        ⎥\n",
       "⎢ 1.11⋅ℯ           -2.36⋅ℯ              -0.0049⋅ℯ          ⎥\n",
       "⎢ ────────────     ────────────         ────────────       ⎥\n",
       "⎢  3.25⋅s + 1        5⋅s + 1             9.06⋅s + 1        ⎥\n",
       "⎢                                                          ⎥\n",
       "⎢        -9.2⋅s          -9.4⋅s                         -s ⎥\n",
       "⎢-34.68⋅ℯ          46.2⋅ℯ           (10.1007⋅s + 0.87)⋅ℯ   ⎥\n",
       "⎢───────────────   ────────────   ─────────────────────────⎥\n",
       "⎣   8.15⋅s + 1      10.9⋅s + 1    (3.89⋅s + 1)⋅(18.8⋅s + 1)⎦"
      ]
     },
     "execution_count": 16,
     "metadata": {},
     "output_type": "execute_result"
    }
   ],
   "source": [
    "G = sympy.Matrix([[G11, G12, G13],\n",
    "     [G21, G22, G13],\n",
    "     [G31, G32, G33]])\n",
    "\n",
    "G"
   ]
  },
  {
   "cell_type": "code",
   "execution_count": 44,
   "metadata": {},
   "outputs": [
    {
     "data": {
      "image/png": "[encoded data removed]",
      "text/latex": [
       "$$0.556810012931571 \\left(- \\left(0.0723047342270904 e^{0.149253731343284 t} - 1.0\\right) \\theta\\left(t - 17.6\\right) + \\left(0.0723047342270904 e^{0.149253731343284 t} - 0.106585694930894\\right) \\theta\\left(t - 2.6\\right)\\right) e^{- 0.149253731343284 t}$$"
      ],
      "text/plain": [
       "                  ⎛  ⎛                    0.149253731343284⋅t      ⎞          \n",
       "0.556810012931571⋅⎝- ⎝0.0723047342270904⋅ℯ                    - 1.0⎠⋅Heaviside\n",
       "\n",
       "             ⎛                    0.149253731343284⋅t                    ⎞    \n",
       "(t - 17.6) + ⎝0.0723047342270904⋅ℯ                    - 0.106585694930894⎠⋅Hea\n",
       "\n",
       "               ⎞  -0.149253731343284⋅t\n",
       "viside(t - 2.6)⎠⋅ℯ                    "
      ]
     },
     "execution_count": 44,
     "metadata": {},
     "output_type": "execute_result"
    }
   ],
   "source": [
    "g11 = sympy.inverse_laplace_transform(G11*(0.061/s*(1-sympy.exp(-s*15))), s, t)\n",
    "g11"
   ]
  },
  {
   "cell_type": "code",
   "execution_count": 45,
   "metadata": {},
   "outputs": [
    {
     "data": {
      "image/png": "[encoded data removed]",
      "text/plain": [
       "<Figure size 432x288 with 1 Axes>"
      ]
     },
     "metadata": {
      "needs_background": "light"
     },
     "output_type": "display_data"
    },
    {
     "data": {
      "text/plain": [
       "<sympy.plotting.plot.Plot at 0x22c1e149e80>"
      ]
     },
     "execution_count": 45,
     "metadata": {},
     "output_type": "execute_result"
    }
   ],
   "source": [
    "sympy.plot(g11 + 0.74,(t, 0, 100))"
   ]
  },
  {
   "cell_type": "code",
   "execution_count": null,
   "metadata": {},
   "outputs": [],
   "source": []
  }
 ],
 "metadata": {
  "kernelspec": {
   "display_name": "Python 3",
   "language": "python",
   "name": "python3"
  },
  "language_info": {
   "codemirror_mode": {
    "name": "ipython",
    "version": 3
   },
   "file_extension": ".py",
   "mimetype": "text/x-python",
   "name": "python",
   "nbconvert_exporter": "python",
   "pygments_lexer": "ipython3",
   "version": "3.7.1"
  }
 },
 "nbformat": 4,
 "nbformat_minor": 2
}
