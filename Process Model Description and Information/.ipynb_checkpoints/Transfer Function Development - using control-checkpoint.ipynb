{
 "cells": [
  {
   "cell_type": "code",
   "execution_count": 5,
   "metadata": {
    "collapsed": true
   },
   "outputs": [],
   "source": [
    "import control"
   ]
  },
  {
   "cell_type": "code",
   "execution_count": 6,
   "metadata": {},
   "outputs": [
    {
     "data": {
      "text/plain": [
       "A = [[-1.4972  0.5997  2.3389]\n",
       " [ 0.1732 -1.8687  0.7232]\n",
       " [ 0.3123  0.3364 -0.7423]]\n",
       "\n",
       "B = [[ 0.65    0.8     0.      0.     -0.0286]\n",
       " [ 0.      0.      1.      0.     -0.0088]\n",
       " [ 0.35    0.2     0.      1.     -0.0088]]\n",
       "\n",
       "C = [[ 0.012   0.012  -0.028 ]\n",
       " [ 1.      1.      1.    ]\n",
       " [ 0.0419  0.8386 -0.096 ]\n",
       " [ 1.0127  0.9326 -2.3198]]\n",
       "\n",
       "D = [[0.     0.     0.     0.     0.    ]\n",
       " [0.     0.     0.     0.     0.    ]\n",
       " [0.     0.     0.     0.     0.    ]\n",
       " [0.     0.     0.     0.     0.0535]]"
      ]
     },
     "execution_count": 6,
     "metadata": {},
     "output_type": "execute_result"
    }
   ],
   "source": [
    "A = [[-1.4972,  0.5997,  2.3389],\n",
    "     [ 0.1732, -1.8687,  0.7232],\n",
    "     [ 0.3123,  0.3364, -0.7423]]\n",
    "\n",
    "B = [[0.65,  0.8, 0,  0, -0.0286],\n",
    "     [   0,    0, 1,  0, -0.0088],\n",
    "     [0.35,  0.2, 0,  1, -0.0088]]\n",
    "\n",
    "C = [[ 0.012,  0.012,  -0.028],\n",
    "     [     1,      1,       1],\n",
    "     [0.0419, 0.8386,  -0.096],\n",
    "     [1.0127, 0.9326, -2.3198]]\n",
    "\n",
    "D = [[0, 0, 0, 0,      0],\n",
    "     [0, 0, 0, 0,      0],\n",
    "     [0, 0, 0, 0,      0],\n",
    "     [0, 0, 0, 0, 0.0535]]\n",
    "\n",
    "Model = control.ss(A,B,C,D)\n",
    "Model"
   ]
  },
  {
   "cell_type": "code",
   "execution_count": 7,
   "metadata": {},
   "outputs": [
    {
     "ename": "TypeError",
     "evalue": "No support for MIMO without slycot",
     "output_type": "error",
     "traceback": [
      "\u001b[1;31m---------------------------------------------------------------------------\u001b[0m",
      "\u001b[1;31mImportError\u001b[0m                               Traceback (most recent call last)",
      "\u001b[1;32m~\\Anaconda3\\lib\\site-packages\\control\\xferfcn.py\u001b[0m in \u001b[0;36m_convertToTransferFunction\u001b[1;34m(sys, **kw)\u001b[0m\n\u001b[0;32m   1089\u001b[0m             \u001b[1;32mtry\u001b[0m\u001b[1;33m:\u001b[0m\u001b[1;33m\u001b[0m\u001b[0m\n\u001b[1;32m-> 1090\u001b[1;33m                 \u001b[1;32mfrom\u001b[0m \u001b[0mslycot\u001b[0m \u001b[1;32mimport\u001b[0m \u001b[0mtb04ad\u001b[0m\u001b[1;33m\u001b[0m\u001b[0m\n\u001b[0m\u001b[0;32m   1091\u001b[0m                 \u001b[1;32mif\u001b[0m \u001b[0mlen\u001b[0m\u001b[1;33m(\u001b[0m\u001b[0mkw\u001b[0m\u001b[1;33m)\u001b[0m\u001b[1;33m:\u001b[0m\u001b[1;33m\u001b[0m\u001b[0m\n",
      "\u001b[1;31mImportError\u001b[0m: cannot import name 'tb04ad'",
      "\nDuring handling of the above exception, another exception occurred:\n",
      "\u001b[1;31mTypeError\u001b[0m                                 Traceback (most recent call last)",
      "\u001b[1;32m<ipython-input-7-2b014ac15956>\u001b[0m in \u001b[0;36m<module>\u001b[1;34m()\u001b[0m\n\u001b[1;32m----> 1\u001b[1;33m \u001b[0mcontrol\u001b[0m\u001b[1;33m.\u001b[0m\u001b[0mss2tf\u001b[0m\u001b[1;33m(\u001b[0m\u001b[0mModel\u001b[0m\u001b[1;33m)\u001b[0m\u001b[1;33m\u001b[0m\u001b[0m\n\u001b[0m",
      "\u001b[1;32m~\\Anaconda3\\lib\\site-packages\\control\\xferfcn.py\u001b[0m in \u001b[0;36mss2tf\u001b[1;34m(*args)\u001b[0m\n\u001b[0;32m   1315\u001b[0m         \u001b[0msys\u001b[0m \u001b[1;33m=\u001b[0m \u001b[0margs\u001b[0m\u001b[1;33m[\u001b[0m\u001b[1;36m0\u001b[0m\u001b[1;33m]\u001b[0m\u001b[1;33m\u001b[0m\u001b[0m\n\u001b[0;32m   1316\u001b[0m         \u001b[1;32mif\u001b[0m \u001b[0misinstance\u001b[0m\u001b[1;33m(\u001b[0m\u001b[0msys\u001b[0m\u001b[1;33m,\u001b[0m \u001b[0mStateSpace\u001b[0m\u001b[1;33m)\u001b[0m\u001b[1;33m:\u001b[0m\u001b[1;33m\u001b[0m\u001b[0m\n\u001b[1;32m-> 1317\u001b[1;33m             \u001b[1;32mreturn\u001b[0m \u001b[0m_convertToTransferFunction\u001b[0m\u001b[1;33m(\u001b[0m\u001b[0msys\u001b[0m\u001b[1;33m)\u001b[0m\u001b[1;33m\u001b[0m\u001b[0m\n\u001b[0m\u001b[0;32m   1318\u001b[0m         \u001b[1;32melse\u001b[0m\u001b[1;33m:\u001b[0m\u001b[1;33m\u001b[0m\u001b[0m\n\u001b[0;32m   1319\u001b[0m             raise TypeError(\"ss2tf(sys): sys must be a StateSpace object.  It \\\n",
      "\u001b[1;32m~\\Anaconda3\\lib\\site-packages\\control\\xferfcn.py\u001b[0m in \u001b[0;36m_convertToTransferFunction\u001b[1;34m(sys, **kw)\u001b[0m\n\u001b[0;32m   1113\u001b[0m                 \u001b[1;31m# If slycot is not available, use signal.lti (SISO only)\u001b[0m\u001b[1;33m\u001b[0m\u001b[1;33m\u001b[0m\u001b[0m\n\u001b[0;32m   1114\u001b[0m                 \u001b[1;32mif\u001b[0m \u001b[1;33m(\u001b[0m\u001b[0msys\u001b[0m\u001b[1;33m.\u001b[0m\u001b[0minputs\u001b[0m \u001b[1;33m!=\u001b[0m \u001b[1;36m1\u001b[0m \u001b[1;32mor\u001b[0m \u001b[0msys\u001b[0m\u001b[1;33m.\u001b[0m\u001b[0moutputs\u001b[0m \u001b[1;33m!=\u001b[0m \u001b[1;36m1\u001b[0m\u001b[1;33m)\u001b[0m\u001b[1;33m:\u001b[0m\u001b[1;33m\u001b[0m\u001b[0m\n\u001b[1;32m-> 1115\u001b[1;33m                     \u001b[1;32mraise\u001b[0m \u001b[0mTypeError\u001b[0m\u001b[1;33m(\u001b[0m\u001b[1;34m\"No support for MIMO without slycot\"\u001b[0m\u001b[1;33m)\u001b[0m\u001b[1;33m\u001b[0m\u001b[0m\n\u001b[0m\u001b[0;32m   1116\u001b[0m \u001b[1;33m\u001b[0m\u001b[0m\n\u001b[0;32m   1117\u001b[0m                 \u001b[1;31m# Do the conversion using sp.signal.ss2tf\u001b[0m\u001b[1;33m\u001b[0m\u001b[1;33m\u001b[0m\u001b[0m\n",
      "\u001b[1;31mTypeError\u001b[0m: No support for MIMO without slycot"
     ]
    }
   ],
   "source": [
    "control.ss2tf(Model)"
   ]
  },
  {
   "cell_type": "code",
   "execution_count": null,
   "metadata": {
    "collapsed": true
   },
   "outputs": [],
   "source": [
    "control."
   ]
  },
  {
   "cell_type": "code",
   "execution_count": 4,
   "metadata": {},
   "outputs": [
    {
     "name": "stdout",
     "output_type": "stream",
     "text": [
      "Collecting gcc49\n"
     ]
    },
    {
     "name": "stderr",
     "output_type": "stream",
     "text": [
      "  Could not find a version that satisfies the requirement gcc49 (from versions: )\n",
      "No matching distribution found for gcc49\n"
     ]
    }
   ],
   "source": [
    "!pip install gcc49"
   ]
  },
  {
   "cell_type": "code",
   "execution_count": null,
   "metadata": {
    "collapsed": true
   },
   "outputs": [],
   "source": [
    "!pip install --upgrade slycot"
   ]
  },
  {
   "cell_type": "code",
   "execution_count": null,
   "metadata": {
    "collapsed": true
   },
   "outputs": [],
   "source": [
    "!conda install -c conda-forge control"
   ]
  },
  {
   "cell_type": "code",
   "execution_count": null,
   "metadata": {
    "collapsed": true
   },
   "outputs": [],
   "source": [
    "control.ss2tf??"
   ]
  },
  {
   "cell_type": "code",
   "execution_count": 8,
   "metadata": {
    "collapsed": true
   },
   "outputs": [],
   "source": [
    "import slycot"
   ]
  },
  {
   "cell_type": "code",
   "execution_count": null,
   "metadata": {
    "collapsed": true
   },
   "outputs": [],
   "source": [
    "slycot."
   ]
  }
 ],
 "metadata": {
  "kernelspec": {
   "display_name": "Python 3",
   "language": "python",
   "name": "python3"
  },
  "language_info": {
   "codemirror_mode": {
    "name": "ipython",
    "version": 3
   },
   "file_extension": ".py",
   "mimetype": "text/x-python",
   "name": "python",
   "nbconvert_exporter": "python",
   "pygments_lexer": "ipython3",
   "version": "3.6.3"
  }
 },
 "nbformat": 4,
 "nbformat_minor": 2
}
