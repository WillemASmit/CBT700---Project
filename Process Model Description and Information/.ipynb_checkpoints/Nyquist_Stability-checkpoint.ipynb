{
 "cells": [
  {
   "cell_type": "code",
   "execution_count": 85,
   "metadata": {},
   "outputs": [],
   "source": [
    "import numpy\n",
    "# import sys\n",
    "# sys.path.append(\"/home/wian/Documents/BEng_Hons/Skogestad-Python/\")\n",
    "# import utils\n",
    "import matplotlib.pyplot as plt\n",
    "%matplotlib inline"
   ]
  },
  {
   "cell_type": "markdown",
   "metadata": {},
   "source": [
    "# Plotting Singular Values Across Frequency"
   ]
  },
  {
   "cell_type": "code",
   "execution_count": 112,
   "metadata": {},
   "outputs": [],
   "source": [
    "Kc = 0.3\n",
    "def G(s):\n",
    "    G11 = 4.29 * numpy.exp(-2.6 * s) / ((6.7 * s + 1))\n",
    "    G12 = -2.38 * numpy.exp(-3.5 * s) / ((8.64 * s + 1))\n",
    "    G13 = -2.156 * numpy.exp(-s) / ((9.06 * s + 1))\n",
    "    G21 = 7.215 * numpy.exp(-6.5 * s) / ((3.25 * s + 1))\n",
    "    G22 = -9.218 * numpy.exp(-3.0 * s) / ((5.0 * s + 1))\n",
    "    G23 = -2.156 * numpy.exp(-s) / ((9.06 * s + 1))\n",
    "    G31 = -0.5635 * numpy.exp(-9.2 * s) / ((8.15 * s + 1))\n",
    "    G32 =  0.451143 * numpy.exp(-9.4 * s) / ((10.9 * s + 1))\n",
    "    G33 = 1.1 * (10.1*s + 0.87) * numpy.exp(-s) / ((3.89 * s + 1)*(18.8*s + 1))\n",
    "    return numpy.diag([Kc, Kc, Kc])*numpy.matrix([[G11, G12, G13],\n",
    "                         [G21, G22, G23],\n",
    "                         [G31, G32, G33]])"
   ]
  },
  {
   "cell_type": "code",
   "execution_count": 113,
   "metadata": {},
   "outputs": [],
   "source": [
    "omega = numpy.logspace(-2,3,10000)"
   ]
  },
  {
   "cell_type": "code",
   "execution_count": 114,
   "metadata": {},
   "outputs": [],
   "source": [
    "s = omega*1j"
   ]
  },
  {
   "cell_type": "code",
   "execution_count": 115,
   "metadata": {},
   "outputs": [],
   "source": [
    "freq_responses = [G(si) for si in s]"
   ]
  },
  {
   "cell_type": "code",
   "execution_count": 116,
   "metadata": {},
   "outputs": [],
   "source": [
    "def Nyquist(Gfr):\n",
    "    return numpy.max(numpy.linalg.eigvals(Gfr))"
   ]
  },
  {
   "cell_type": "code",
   "execution_count": 117,
   "metadata": {},
   "outputs": [],
   "source": [
    "nyquists = [Nyquist(G_fr) for G_fr in freq_responses]"
   ]
  },
  {
   "cell_type": "code",
   "execution_count": 118,
   "metadata": {},
   "outputs": [],
   "source": [
    "nyquists = numpy.array(nyquists)"
   ]
  },
  {
   "cell_type": "code",
   "execution_count": 119,
   "metadata": {},
   "outputs": [
    {
     "data": {
      "text/plain": [
       "[<matplotlib.lines.Line2D at 0x20e5be87e10>]"
      ]
     },
     "execution_count": 119,
     "metadata": {},
     "output_type": "execute_result"
    },
    {
     "data": {
      "image/png": "[encoded data removed]",
      "text/plain": [
       "<Figure size 432x288 with 1 Axes>"
      ]
     },
     "metadata": {
      "needs_background": "light"
     },
     "output_type": "display_data"
    }
   ],
   "source": [
    "plt.plot(numpy.real(nyquists), numpy.imag(nyquists), ',')\n",
    "plt.plot(numpy.real(nyquists), numpy.imag(numpy.conj(nyquists)),',')\n",
    "# plt.xlim([-5,5])\n",
    "# plt.ylim([-5,5])"
   ]
  },
  {
   "cell_type": "code",
   "execution_count": 120,
   "metadata": {},
   "outputs": [
    {
     "data": {
      "text/plain": [
       "<matplotlib.lines.Line2D at 0x20e5a96fdd8>"
      ]
     },
     "execution_count": 120,
     "metadata": {},
     "output_type": "execute_result"
    },
    {
     "data": {
      "image/png": "[encoded data removed]",
      "text/plain": [
       "<Figure size 432x288 with 1 Axes>"
      ]
     },
     "metadata": {
      "needs_background": "light"
     },
     "output_type": "display_data"
    }
   ],
   "source": [
    "plt.loglog(omega, numpy.abs(nyquists))\n",
    "plt.axhline(1)"
   ]
  },
  {
   "cell_type": "code",
   "execution_count": null,
   "metadata": {},
   "outputs": [],
   "source": []
  }
 ],
 "metadata": {
  "kernelspec": {
   "display_name": "Python 3",
   "language": "python",
   "name": "python3"
  },
  "language_info": {
   "codemirror_mode": {
    "name": "ipython",
    "version": 3
   },
   "file_extension": ".py",
   "mimetype": "text/x-python",
   "name": "python",
   "nbconvert_exporter": "python",
   "pygments_lexer": "ipython3",
   "version": "3.7.1"
  }
 },
 "nbformat": 4,
 "nbformat_minor": 2
}
