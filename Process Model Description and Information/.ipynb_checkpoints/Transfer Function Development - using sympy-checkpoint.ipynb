{
 "cells": [
  {
   "cell_type": "code",
   "execution_count": 3,
   "metadata": {
    "collapsed": true
   },
   "outputs": [],
   "source": [
    "import sympy\n",
    "sympy.init_printing()"
   ]
  },
  {
   "cell_type": "code",
   "execution_count": 4,
   "metadata": {
    "collapsed": true
   },
   "outputs": [],
   "source": [
    "A = [[-1.4972,  0.5997,  2.3389],\n",
    "     [ 0.1732, -1.8687,  0.7232],\n",
    "     [ 0.3123,  0.3364, -0.7423]]\n",
    "\n",
    "B = [[0.65,  0.8, 0,  0, -0.0286],\n",
    "     [   0,    0, 1,  0, -0.0088],\n",
    "     [0.35,  0.2, 0,  1, -0.0088]]\n",
    "\n",
    "C = [[ 0.012,  0.012,  -0.028],\n",
    "     [     1,      1,       1],\n",
    "     [0.0419, 0.8386,  -0.096],\n",
    "     [1.0127, 0.9326, -2.3198]]\n",
    "\n",
    "D = [[0, 0, 0, 0,      0],\n",
    "     [0, 0, 0, 0,      0],\n",
    "     [0, 0, 0, 0,      0],\n",
    "     [0, 0, 0, 0, 0.0535]]"
   ]
  },
  {
   "cell_type": "code",
   "execution_count": null,
   "metadata": {
    "collapsed": true
   },
   "outputs": [],
   "source": []
  }
 ],
 "metadata": {
  "kernelspec": {
   "display_name": "Python 3",
   "language": "python",
   "name": "python3"
  },
  "language_info": {
   "codemirror_mode": {
    "name": "ipython",
    "version": 3
   },
   "file_extension": ".py",
   "mimetype": "text/x-python",
   "name": "python",
   "nbconvert_exporter": "python",
   "pygments_lexer": "ipython3",
   "version": "3.6.3"
  }
 },
 "nbformat": 4,
 "nbformat_minor": 2
}
