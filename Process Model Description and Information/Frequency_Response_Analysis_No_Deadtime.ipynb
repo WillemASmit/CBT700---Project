{
 "cells": [
  {
   "cell_type": "code",
   "execution_count": 2,
   "metadata": {},
   "outputs": [],
   "source": [
    "import numpy\n",
    "import sys\n",
    "# sys.path.append(\"/home/wian/Documents/BEng_Hons/Skogestad-Python/\")\n",
    "import utils\n",
    "import matplotlib.pyplot as plt\n",
    "%matplotlib inline"
   ]
  },
  {
   "cell_type": "markdown",
   "metadata": {},
   "source": [
    "# Plotting Singular Values Across Frequency"
   ]
  },
  {
   "cell_type": "code",
   "execution_count": 3,
   "metadata": {},
   "outputs": [],
   "source": [
    "Kc=1\n",
    "def G(s):\n",
    "    G11 = 4.29 / ((6.7 * s + 1))\n",
    "    G12 = -2.38 / ((8.64 * s + 1))\n",
    "    G13 = -2.156 / ((9.06 * s + 1))\n",
    "    G21 = 7.215 / ((3.25 * s + 1))\n",
    "    G22 = -9.218 / ((5.0 * s + 1))\n",
    "    G23 = -2.156 / ((9.06 * s + 1))\n",
    "    G31 = -0.5635 / ((8.15 * s + 1))\n",
    "    G32 =  0.451143 / ((10.9 * s + 1))\n",
    "    G33 = 1.1 * (10.1*s + 0.87) / ((3.89 * s + 1)*(18.8*s + 1))\n",
    "    return numpy.diag([Kc, Kc, Kc])*numpy.matrix([[G11, G12, G13],\n",
    "                         [G21, G22, G23],\n",
    "                         [G31, G32, G33]])"
   ]
  },
  {
   "cell_type": "code",
   "execution_count": 4,
   "metadata": {},
   "outputs": [],
   "source": [
    "omega = numpy.logspace(-3,3,1000)"
   ]
  },
  {
   "cell_type": "code",
   "execution_count": 5,
   "metadata": {},
   "outputs": [],
   "source": [
    "s = omega*1j"
   ]
  },
  {
   "cell_type": "code",
   "execution_count": 6,
   "metadata": {},
   "outputs": [],
   "source": [
    "freq_responses = [G(si) for si in s]"
   ]
  },
  {
   "cell_type": "code",
   "execution_count": 7,
   "metadata": {},
   "outputs": [],
   "source": [
    "def sigma(Gfr):\n",
    "    return numpy.linalg.svd(Gfr)"
   ]
  },
  {
   "cell_type": "code",
   "execution_count": 8,
   "metadata": {},
   "outputs": [
    {
     "data": {
      "text/plain": [
       "(array([12.90885544,  2.20753365,  0.55958306]),\n",
       " array([2.97775738e-03, 2.84277956e-04, 9.00017580e-05]))"
      ]
     },
     "execution_count": 8,
     "metadata": {},
     "output_type": "execute_result"
    }
   ],
   "source": [
    "sigmas = [sigma(G_fr)[1] for G_fr in freq_responses]\n",
    "sigmas[0], sigmas[-1]"
   ]
  },
  {
   "cell_type": "code",
   "execution_count": 9,
   "metadata": {},
   "outputs": [],
   "source": [
    "sigmas = numpy.array(sigmas)"
   ]
  },
  {
   "cell_type": "code",
   "execution_count": 13,
   "metadata": {},
   "outputs": [
    {
     "data": {
      "text/plain": [
       "Text(0, 0.5, 'Singular Values, $\\\\sigma$')"
      ]
     },
     "execution_count": 13,
     "metadata": {},
     "output_type": "execute_result"
    },
    {
     "data": {
      "image/png": "[encoded data removed]",
      "text/plain": [
       "<Figure size 432x288 with 1 Axes>"
      ]
     },
     "metadata": {
      "needs_background": "light"
     },
     "output_type": "display_data"
    }
   ],
   "source": [
    "plt.loglog(omega, sigmas[:,1])\n",
    "plt.xlabel(\"Frequency, $\\omega$\")\n",
    "plt.ylabel(\"Singular Values, $\\sigma$\")"
   ]
  },
  {
   "cell_type": "code",
   "execution_count": 15,
   "metadata": {},
   "outputs": [
    {
     "data": {
      "text/plain": [
       "2.966140672872925"
      ]
     },
     "execution_count": 15,
     "metadata": {},
     "output_type": "execute_result"
    }
   ],
   "source": [
    "numpy.interp(1, sigmas[:,0][::-1], omega[::-1])"
   ]
  },
  {
   "cell_type": "markdown",
   "metadata": {},
   "source": [
    "# Analysing the input and output directions across frequency"
   ]
  },
  {
   "cell_type": "code",
   "execution_count": 10,
   "metadata": {},
   "outputs": [],
   "source": [
    "def sinusoid(omega, r):\n",
    "    gain = numpy.abs(r)\n",
    "    phase = numpy.angle(r)\n",
    "    return gain*numpy.sin(ts*omega + phase)"
   ]
  },
  {
   "cell_type": "code",
   "execution_count": 11,
   "metadata": {},
   "outputs": [],
   "source": [
    "ts = numpy.linspace(0,10,1000)"
   ]
  },
  {
   "cell_type": "code",
   "execution_count": 12,
   "metadata": {},
   "outputs": [],
   "source": [
    "def dirplot(omega_e, index):\n",
    "    omega_c = 10**omega_e\n",
    "    plt.subplot(3,1,1)\n",
    "    plt.axvline(omega_c)\n",
    "    plt.loglog(omega, sigmas)\n",
    "    U, sigma, V = numpy.linalg.svd(G(omega_c*1j))\n",
    "    V = V\n",
    "    plt.subplot(3,1,2)\n",
    "    plt.plot(ts, sinusoid(omega_c, V[0,index]))\n",
    "    plt.plot(ts, sinusoid(omega_c, V[1,index]))\n",
    "    plt.subplot(3,1,3)\n",
    "    plt.plot(ts, sigma[0]*sinusoid(omega_c, U[0,index]))\n",
    "    plt.plot(ts, sigma[0]*sinusoid(omega_c, U[1,index]))"
   ]
  },
  {
   "cell_type": "code",
   "execution_count": 13,
   "metadata": {},
   "outputs": [],
   "source": [
    "from ipywidgets import interact"
   ]
  },
  {
   "cell_type": "code",
   "execution_count": 14,
   "metadata": {},
   "outputs": [
    {
     "data": {
      "application/vnd.jupyter.widget-view+json": {
       "model_id": "81d7b7936fb0461a85da0263710d004f",
       "version_major": 2,
       "version_minor": 0
      },
      "text/plain": [
       "interactive(children=(FloatSlider(value=1.00005, description='omega_e', max=2.0, min=0.0001), Dropdown(descrip…"
      ]
     },
     "metadata": {},
     "output_type": "display_data"
    },
    {
     "data": {
      "text/plain": [
       "<function __main__.dirplot(omega_e, index)>"
      ]
     },
     "execution_count": 14,
     "metadata": {},
     "output_type": "execute_result"
    }
   ],
   "source": [
    "interact(dirplot, omega_e = (0.0001, 2), index=[0,1])"
   ]
  },
  {
   "cell_type": "code",
   "execution_count": null,
   "metadata": {},
   "outputs": [],
   "source": []
  },
  {
   "cell_type": "markdown",
   "metadata": {},
   "source": [
    "# Determining bandwidth and Plotting S($\\sigma$)"
   ]
  },
  {
   "cell_type": "code",
   "execution_count": 15,
   "metadata": {},
   "outputs": [
    {
     "data": {
      "text/plain": [
       "matrix([[ 1.27916167, -0.57940503,  0.13334841],\n",
       "        [ 4.0758213 , -3.73614148,  0.06473074],\n",
       "        [-0.06734868,  0.09421673,  0.89430081]])"
      ]
     },
     "execution_count": 15,
     "metadata": {},
     "output_type": "execute_result"
    }
   ],
   "source": [
    "def S(s):\n",
    "    return numpy.linalg.inv(numpy.eye(3) + numpy.diag([Kc, Kc, Kc])*G(s))\n",
    "\n",
    "S(1)"
   ]
  },
  {
   "cell_type": "code",
   "execution_count": 16,
   "metadata": {},
   "outputs": [],
   "source": [
    "S_freq_responses = [S(si) for si in s]"
   ]
  },
  {
   "cell_type": "code",
   "execution_count": 17,
   "metadata": {},
   "outputs": [],
   "source": [
    "S_sigmas = [sigma(G_fr)[1] for G_fr in S_freq_responses]"
   ]
  },
  {
   "cell_type": "code",
   "execution_count": 18,
   "metadata": {},
   "outputs": [
    {
     "data": {
      "text/plain": [
       "[<matplotlib.lines.Line2D at 0x278886d7a20>,\n",
       " <matplotlib.lines.Line2D at 0x278887af198>,\n",
       " <matplotlib.lines.Line2D at 0x278887af2e8>]"
      ]
     },
     "execution_count": 18,
     "metadata": {},
     "output_type": "execute_result"
    },
    {
     "data": {
      "image/png": "[encoded data removed]",
      "text/plain": [
       "<Figure size 432x288 with 1 Axes>"
      ]
     },
     "metadata": {
      "needs_background": "light"
     },
     "output_type": "display_data"
    }
   ],
   "source": [
    "S_sigmas = numpy.array(S_sigmas)\n",
    "plt.loglog(omega, S_sigmas)"
   ]
  },
  {
   "cell_type": "code",
   "execution_count": 19,
   "metadata": {},
   "outputs": [],
   "source": [
    "def T(s):\n",
    "    return G(s)*numpy.linalg.inv(numpy.eye(3) + numpy.diag([Kc, Kc, Kc])*G(s))"
   ]
  },
  {
   "cell_type": "code",
   "execution_count": 20,
   "metadata": {},
   "outputs": [],
   "source": [
    "T_freq_responses = [T(si) for si in s]"
   ]
  },
  {
   "cell_type": "code",
   "execution_count": 21,
   "metadata": {},
   "outputs": [],
   "source": [
    "T_sigmas = [sigma(G_fr)[1] for G_fr in T_freq_responses]"
   ]
  },
  {
   "cell_type": "code",
   "execution_count": 22,
   "metadata": {},
   "outputs": [
    {
     "data": {
      "text/plain": [
       "[<matplotlib.lines.Line2D at 0x278886d73c8>,\n",
       " <matplotlib.lines.Line2D at 0x27888565be0>,\n",
       " <matplotlib.lines.Line2D at 0x27888565240>]"
      ]
     },
     "execution_count": 22,
     "metadata": {},
     "output_type": "execute_result"
    },
    {
     "data": {
      "image/png": "[encoded data removed]",
      "text/plain": [
       "<Figure size 432x288 with 1 Axes>"
      ]
     },
     "metadata": {
      "needs_background": "light"
     },
     "output_type": "display_data"
    }
   ],
   "source": [
    "T_sigmas = numpy.array(T_sigmas)\n",
    "plt.loglog(omega, T_sigmas)"
   ]
  },
  {
   "cell_type": "code",
   "execution_count": 23,
   "metadata": {},
   "outputs": [
    {
     "data": {
      "text/plain": [
       "[0.2861700109796711, 3.821293849746791]"
      ]
     },
     "execution_count": 23,
     "metadata": {},
     "output_type": "execute_result"
    }
   ],
   "source": [
    "Bandwidth = [0,0]\n",
    "\n",
    "Bandwidth[0] = numpy.interp(1/numpy.sqrt(2), S_sigmas[:,1], omega)\n",
    "Bandwidth[1] = numpy.interp(1/numpy.sqrt(2), S_sigmas[:,2], omega)\n",
    "\n",
    "Bandwidth"
   ]
  },
  {
   "cell_type": "code",
   "execution_count": 24,
   "metadata": {},
   "outputs": [
    {
     "data": {
      "text/plain": [
       "2.6055354459015816"
      ]
     },
     "execution_count": 24,
     "metadata": {},
     "output_type": "execute_result"
    }
   ],
   "source": [
    "omega_c = numpy.interp(1, T_sigmas[:,0][::-1], omega[::-1])\n",
    "omega_c"
   ]
  },
  {
   "cell_type": "code",
   "execution_count": 25,
   "metadata": {},
   "outputs": [
    {
     "name": "stderr",
     "output_type": "stream",
     "text": [
      "C:\\ProgramData\\Anaconda3\\lib\\site-packages\\utils.py:1438: ComplexWarning: Casting complex values to real discards the imaginary part\n",
      "  G = numpy.asmatrix(G).astype('float')\n"
     ]
    },
    {
     "data": {
      "text/plain": [
       "array([[ 2.66778963, -1.63498536, -0.03280427],\n",
       "       [-1.49815004,  2.50365227, -0.00550223],\n",
       "       [-0.16963959,  0.13133309,  1.0383065 ]])"
      ]
     },
     "execution_count": 25,
     "metadata": {},
     "output_type": "execute_result"
    }
   ],
   "source": [
    "utils.RGA(G(omega_c*1j))"
   ]
  },
  {
   "cell_type": "code",
   "execution_count": 39,
   "metadata": {},
   "outputs": [
    {
     "data": {
      "text/plain": [
       "array([[ 2.6940276 , -1.66226292, -0.03176468],\n",
       "       [-1.52413994,  2.52963381, -0.00549386],\n",
       "       [-0.16988766,  0.13262911,  1.03725854]])"
      ]
     },
     "execution_count": 39,
     "metadata": {},
     "output_type": "execute_result"
    }
   ],
   "source": [
    "utils.RGA(G(1j*10**3))"
   ]
  },
  {
   "cell_type": "code",
   "execution_count": 35,
   "metadata": {},
   "outputs": [],
   "source": [
    "RGA_numbers = numpy.array([utils.RGA(G(s)).diagonal() for s in omega*1j])"
   ]
  },
  {
   "cell_type": "code",
   "execution_count": 37,
   "metadata": {},
   "outputs": [
    {
     "data": {
      "text/plain": [
       "<matplotlib.legend.Legend at 0x27888a07748>"
      ]
     },
     "execution_count": 37,
     "metadata": {},
     "output_type": "execute_result"
    },
    {
     "data": {
      "image/png": "[encoded data removed]",
      "text/plain": [
       "<Figure size 432x288 with 1 Axes>"
      ]
     },
     "metadata": {
      "needs_background": "light"
     },
     "output_type": "display_data"
    }
   ],
   "source": [
    "plt.loglog(omega, RGA_numbers[:,0], label=\"$\\Lambda_{11}$\")\n",
    "plt.loglog(omega, RGA_numbers[:,1], label=\"$\\Lambda_{22}$\")\n",
    "plt.loglog(omega, RGA_numbers[:,2], label=\"$\\Lambda_{33}$\")\n",
    "plt.xlabel(\"Frequency, $\\omega$\")\n",
    "plt.ylabel(\"RGA Value\")\n",
    "plt.legend(loc = 0)"
   ]
  },
  {
   "cell_type": "code",
   "execution_count": 44,
   "metadata": {},
   "outputs": [
    {
     "ename": "AttributeError",
     "evalue": "'function' object has no attribute 'shape'",
     "output_type": "error",
     "traceback": [
      "\u001b[1;31m---------------------------------------------------------------------------\u001b[0m",
      "\u001b[1;31mAttributeError\u001b[0m                            Traceback (most recent call last)",
      "\u001b[1;32m<ipython-input-44-0c03fccc1062>\u001b[0m in \u001b[0;36m<module>\u001b[1;34m\u001b[0m\n\u001b[1;32m----> 1\u001b[1;33m \u001b[0mutils\u001b[0m\u001b[1;33m.\u001b[0m\u001b[0mlcm_of_all_minors\u001b[0m\u001b[1;33m(\u001b[0m\u001b[0mG\u001b[0m\u001b[1;33m)\u001b[0m\u001b[1;33m\u001b[0m\u001b[1;33m\u001b[0m\u001b[0m\n\u001b[0m",
      "\u001b[1;32mC:\\ProgramData\\Anaconda3\\lib\\site-packages\\utils.py\u001b[0m in \u001b[0;36mlcm_of_all_minors\u001b[1;34m(G)\u001b[0m\n\u001b[0;32m   2242\u001b[0m     \u001b[0mReturns\u001b[0m \u001b[0mthe\u001b[0m \u001b[0mlowest\u001b[0m \u001b[0mcommon\u001b[0m \u001b[0mmultiple\u001b[0m \u001b[0mof\u001b[0m \u001b[0mall\u001b[0m \u001b[0mminors\u001b[0m \u001b[0mof\u001b[0m \u001b[0mG\u001b[0m\u001b[1;33m\u001b[0m\u001b[1;33m\u001b[0m\u001b[0m\n\u001b[0;32m   2243\u001b[0m     \"\"\"\n\u001b[1;32m-> 2244\u001b[1;33m     \u001b[0mNrows\u001b[0m\u001b[1;33m,\u001b[0m \u001b[0mNcols\u001b[0m \u001b[1;33m=\u001b[0m \u001b[0mG\u001b[0m\u001b[1;33m.\u001b[0m\u001b[0mshape\u001b[0m\u001b[1;33m\u001b[0m\u001b[1;33m\u001b[0m\u001b[0m\n\u001b[0m\u001b[0;32m   2245\u001b[0m     \u001b[0mdenoms\u001b[0m \u001b[1;33m=\u001b[0m \u001b[1;33m[\u001b[0m\u001b[1;33m]\u001b[0m\u001b[1;33m\u001b[0m\u001b[1;33m\u001b[0m\u001b[0m\n\u001b[0;32m   2246\u001b[0m     \u001b[1;32mfor\u001b[0m \u001b[0mi\u001b[0m \u001b[1;32min\u001b[0m \u001b[0mrange\u001b[0m\u001b[1;33m(\u001b[0m\u001b[1;36m1\u001b[0m\u001b[1;33m,\u001b[0m \u001b[0mmin\u001b[0m\u001b[1;33m(\u001b[0m\u001b[0mNrows\u001b[0m\u001b[1;33m,\u001b[0m \u001b[0mNcols\u001b[0m\u001b[1;33m)\u001b[0m \u001b[1;33m+\u001b[0m \u001b[1;36m1\u001b[0m\u001b[1;33m,\u001b[0m \u001b[1;36m1\u001b[0m\u001b[1;33m)\u001b[0m\u001b[1;33m:\u001b[0m\u001b[1;33m\u001b[0m\u001b[1;33m\u001b[0m\u001b[0m\n",
      "\u001b[1;31mAttributeError\u001b[0m: 'function' object has no attribute 'shape'"
     ]
    }
   ],
   "source": [
    "utils.lcm_of_all_minors(G)"
   ]
  },
  {
   "cell_type": "code",
   "execution_count": null,
   "metadata": {},
   "outputs": [],
   "source": []
  }
 ],
 "metadata": {
  "kernelspec": {
   "display_name": "Python 3",
   "language": "python",
   "name": "python3"
  },
  "language_info": {
   "codemirror_mode": {
    "name": "ipython",
    "version": 3
   },
   "file_extension": ".py",
   "mimetype": "text/x-python",
   "name": "python",
   "nbconvert_exporter": "python",
   "pygments_lexer": "ipython3",
   "version": "3.7.1"
  }
 },
 "nbformat": 4,
 "nbformat_minor": 2
}
