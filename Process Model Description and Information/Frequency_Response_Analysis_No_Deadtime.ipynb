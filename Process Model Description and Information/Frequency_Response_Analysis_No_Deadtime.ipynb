{
 "cells": [
  {
   "cell_type": "code",
   "execution_count": 1,
   "metadata": {},
   "outputs": [],
   "source": [
    "import numpy\n",
    "import sys\n",
    "# sys.path.append(\"/home/wian/Documents/BEng_Hons/Skogestad-Python/\")\n",
    "import utils\n",
    "import matplotlib.pyplot as plt\n",
    "%matplotlib inline"
   ]
  },
  {
   "cell_type": "markdown",
   "metadata": {},
   "source": [
    "# Plotting Singular Values Across Frequency"
   ]
  },
  {
   "cell_type": "code",
   "execution_count": 8,
   "metadata": {},
   "outputs": [],
   "source": [
    "Kc=1\n",
    "def G(s):\n",
    "    G11 = 4.29 / ((6.7 * s + 1))\n",
    "    G12 = -2.38 / ((8.64 * s + 1))\n",
    "    G13 = -2.156 / ((9.06 * s + 1))\n",
    "    G21 = 7.215 / ((3.25 * s + 1))\n",
    "    G22 = -9.218 / ((5.0 * s + 1))\n",
    "    G23 = -2.156 / ((9.06 * s + 1))\n",
    "    G31 = -0.5635 / ((8.15 * s + 1))\n",
    "    G32 =  0.451143 / ((10.9 * s + 1))\n",
    "    G33 = 1.1 * (10.1*s + 0.87) / ((3.89 * s + 1)*(18.8*s + 1))\n",
    "    return numpy.diag([Kc, Kc, Kc])*numpy.matrix([[G11, G12, G13],\n",
    "                         [G21, G22, G23],\n",
    "                         [G31, G32, G33]])"
   ]
  },
  {
   "cell_type": "code",
   "execution_count": 9,
   "metadata": {},
   "outputs": [],
   "source": [
    "omega = numpy.logspace(-3,3,1000)"
   ]
  },
  {
   "cell_type": "code",
   "execution_count": 10,
   "metadata": {},
   "outputs": [],
   "source": [
    "s = omega*1j"
   ]
  },
  {
   "cell_type": "code",
   "execution_count": 11,
   "metadata": {},
   "outputs": [],
   "source": [
    "freq_responses = [G(si) for si in s]"
   ]
  },
  {
   "cell_type": "code",
   "execution_count": 12,
   "metadata": {},
   "outputs": [],
   "source": [
    "def sigma(Gfr):\n",
    "    return numpy.linalg.svd(Gfr)"
   ]
  },
  {
   "cell_type": "code",
   "execution_count": 13,
   "metadata": {},
   "outputs": [
    {
     "data": {
      "text/plain": [
       "(array([12.90885544,  2.20753365,  0.55958306]),\n",
       " array([2.97775738e-03, 2.84277956e-04, 9.00017580e-05]))"
      ]
     },
     "execution_count": 13,
     "metadata": {},
     "output_type": "execute_result"
    }
   ],
   "source": [
    "sigmas = [sigma(G_fr)[1] for G_fr in freq_responses]\n",
    "sigmas[0], sigmas[-1]"
   ]
  },
  {
   "cell_type": "code",
   "execution_count": 14,
   "metadata": {},
   "outputs": [],
   "source": [
    "sigmas = numpy.array(sigmas)"
   ]
  },
  {
   "cell_type": "code",
   "execution_count": 17,
   "metadata": {},
   "outputs": [
    {
     "data": {
      "text/plain": [
       "Text(0, 0.5, 'Singular Values, $\\\\sigma$')"
      ]
     },
     "execution_count": 17,
     "metadata": {},
     "output_type": "execute_result"
    },
    {
     "data": {
      "image/png": "[encoded data removed]",
      "text/plain": [
       "<Figure size 432x288 with 1 Axes>"
      ]
     },
     "metadata": {
      "needs_background": "light"
     },
     "output_type": "display_data"
    }
   ],
   "source": [
    "plt.loglog(omega, sigmas)\n",
    "plt.xlabel(\"Frequency, $\\omega$\")\n",
    "plt.ylabel(\"Singular Values, $\\sigma$\")"
   ]
  },
  {
   "cell_type": "markdown",
   "metadata": {},
   "source": [
    "# Analysing the input and output directions across frequency"
   ]
  },
  {
   "cell_type": "code",
   "execution_count": 68,
   "metadata": {},
   "outputs": [],
   "source": [
    "def sinusoid(omega, r):\n",
    "    gain = numpy.abs(r)\n",
    "    phase = numpy.angle(r)\n",
    "    return gain*numpy.sin(ts*omega + phase)"
   ]
  },
  {
   "cell_type": "code",
   "execution_count": 69,
   "metadata": {},
   "outputs": [],
   "source": [
    "ts = numpy.linspace(0,10,1000)"
   ]
  },
  {
   "cell_type": "code",
   "execution_count": 70,
   "metadata": {},
   "outputs": [],
   "source": [
    "def dirplot(omega_e, index):\n",
    "    omega_c = 10**omega_e\n",
    "    plt.subplot(3,1,1)\n",
    "    plt.axvline(omega_c)\n",
    "    plt.loglog(omega, sigmas)\n",
    "    U, sigma, V = numpy.linalg.svd(G(omega_c*1j))\n",
    "    V = V\n",
    "    plt.subplot(3,1,2)\n",
    "    plt.plot(ts, sinusoid(omega_c, V[0,index]))\n",
    "    plt.plot(ts, sinusoid(omega_c, V[1,index]))\n",
    "    plt.subplot(3,1,3)\n",
    "    plt.plot(ts, sigma[0]*sinusoid(omega_c, U[0,index]))\n",
    "    plt.plot(ts, sigma[0]*sinusoid(omega_c, U[1,index]))"
   ]
  },
  {
   "cell_type": "code",
   "execution_count": 71,
   "metadata": {},
   "outputs": [],
   "source": [
    "from ipywidgets import interact"
   ]
  },
  {
   "cell_type": "code",
   "execution_count": 72,
   "metadata": {},
   "outputs": [
    {
     "data": {
      "application/vnd.jupyter.widget-view+json": {
       "model_id": "b8edb45d7bb0465b9fd3a6e2b2352780",
       "version_major": 2,
       "version_minor": 0
      },
      "text/plain": [
       "interactive(children=(FloatSlider(value=1.00005, description='omega_e', max=2.0, min=0.0001), Dropdown(descrip…"
      ]
     },
     "metadata": {},
     "output_type": "display_data"
    },
    {
     "data": {
      "text/plain": [
       "<function __main__.dirplot(omega_e, index)>"
      ]
     },
     "execution_count": 72,
     "metadata": {},
     "output_type": "execute_result"
    }
   ],
   "source": [
    "interact(dirplot, omega_e = (0.0001, 2), index=[0,1])"
   ]
  },
  {
   "cell_type": "code",
   "execution_count": null,
   "metadata": {},
   "outputs": [],
   "source": []
  },
  {
   "cell_type": "markdown",
   "metadata": {},
   "source": [
    "# Determining bandwidth and Plotting S($\\sigma$)"
   ]
  },
  {
   "cell_type": "code",
   "execution_count": 73,
   "metadata": {},
   "outputs": [
    {
     "data": {
      "text/plain": [
       "matrix([[ 0.19674961, -0.02798669,  0.19327808],\n",
       "        [ 0.22380532, -0.07552884,  0.1698157 ],\n",
       "        [ 0.01940911,  0.00609112,  0.36319554]])"
      ]
     },
     "execution_count": 73,
     "metadata": {},
     "output_type": "execute_result"
    }
   ],
   "source": [
    "def S(s):\n",
    "    return numpy.linalg.inv(numpy.eye(3) + numpy.diag([Kc, Kc, Kc])*G(s))\n",
    "\n",
    "S(1)"
   ]
  },
  {
   "cell_type": "code",
   "execution_count": 74,
   "metadata": {},
   "outputs": [],
   "source": [
    "S_freq_responses = [S(si) for si in s]"
   ]
  },
  {
   "cell_type": "code",
   "execution_count": 75,
   "metadata": {},
   "outputs": [],
   "source": [
    "S_sigmas = [sigma(G_fr)[1] for G_fr in S_freq_responses]"
   ]
  },
  {
   "cell_type": "code",
   "execution_count": 76,
   "metadata": {},
   "outputs": [
    {
     "data": {
      "text/plain": [
       "[<matplotlib.lines.Line2D at 0x1a87c15d8d0>,\n",
       " <matplotlib.lines.Line2D at 0x1a87d331278>,\n",
       " <matplotlib.lines.Line2D at 0x1a87d3313c8>]"
      ]
     },
     "execution_count": 76,
     "metadata": {},
     "output_type": "execute_result"
    },
    {
     "data": {
      "image/png": "[encoded data removed]",
      "text/plain": [
       "<Figure size 432x288 with 1 Axes>"
      ]
     },
     "metadata": {
      "needs_background": "light"
     },
     "output_type": "display_data"
    }
   ],
   "source": [
    "S_sigmas = numpy.array(S_sigmas)\n",
    "plt.loglog(omega, S_sigmas)"
   ]
  },
  {
   "cell_type": "code",
   "execution_count": 77,
   "metadata": {},
   "outputs": [],
   "source": [
    "def T(s):\n",
    "    return G(s)*numpy.linalg.inv(numpy.eye(3) + numpy.diag([Kc, Kc, Kc])*G(s))"
   ]
  },
  {
   "cell_type": "code",
   "execution_count": 78,
   "metadata": {},
   "outputs": [],
   "source": [
    "T_freq_responses = [T(si) for si in s]"
   ]
  },
  {
   "cell_type": "code",
   "execution_count": 79,
   "metadata": {},
   "outputs": [],
   "source": [
    "T_sigmas = [sigma(G_fr)[1] for G_fr in T_freq_responses]"
   ]
  },
  {
   "cell_type": "code",
   "execution_count": 80,
   "metadata": {},
   "outputs": [
    {
     "data": {
      "text/plain": [
       "[<matplotlib.lines.Line2D at 0x1a87d49bf28>,\n",
       " <matplotlib.lines.Line2D at 0x1a87bb5d160>,\n",
       " <matplotlib.lines.Line2D at 0x1a87bb5d2b0>]"
      ]
     },
     "execution_count": 80,
     "metadata": {},
     "output_type": "execute_result"
    },
    {
     "data": {
      "image/png": "[encoded data removed]",
      "text/plain": [
       "<Figure size 432x288 with 1 Axes>"
      ]
     },
     "metadata": {
      "needs_background": "light"
     },
     "output_type": "display_data"
    }
   ],
   "source": [
    "T_sigmas = numpy.array(T_sigmas)\n",
    "plt.loglog(omega, T_sigmas)"
   ]
  },
  {
   "cell_type": "code",
   "execution_count": 81,
   "metadata": {},
   "outputs": [
    {
     "data": {
      "text/plain": [
       "[4.339595518244456, 62.339456308566525]"
      ]
     },
     "execution_count": 81,
     "metadata": {},
     "output_type": "execute_result"
    }
   ],
   "source": [
    "Bandwidth = [0,0]\n",
    "\n",
    "Bandwidth[0] = numpy.interp(1/numpy.sqrt(2), S_sigmas[:,1], omega)\n",
    "Bandwidth[1] = numpy.interp(1/numpy.sqrt(2), S_sigmas[:,2], omega)\n",
    "\n",
    "Bandwidth"
   ]
  },
  {
   "cell_type": "code",
   "execution_count": 82,
   "metadata": {},
   "outputs": [
    {
     "data": {
      "text/plain": [
       "0.001"
      ]
     },
     "execution_count": 82,
     "metadata": {},
     "output_type": "execute_result"
    }
   ],
   "source": [
    "omega_c = numpy.interp(1, T_sigmas[:,0][::-1], omega[::-1])\n",
    "omega_c"
   ]
  },
  {
   "cell_type": "code",
   "execution_count": 83,
   "metadata": {},
   "outputs": [
    {
     "data": {
      "text/plain": [
       "array([[ 2.11127014, -0.84906656, -0.26220358],\n",
       "       [-0.59033204,  1.670664  , -0.08033196],\n",
       "       [-0.5209381 ,  0.17840256,  1.34253554]])"
      ]
     },
     "execution_count": 83,
     "metadata": {},
     "output_type": "execute_result"
    }
   ],
   "source": [
    "utils.RGA(G(omega_c*1j))"
   ]
  },
  {
   "cell_type": "code",
   "execution_count": 84,
   "metadata": {},
   "outputs": [
    {
     "data": {
      "text/plain": [
       "array([[ 2.11123578, -0.84907281, -0.26216297],\n",
       "       [-0.59035419,  1.67068873, -0.08033454],\n",
       "       [-0.52088159,  0.17838408,  1.34249751]])"
      ]
     },
     "execution_count": 84,
     "metadata": {},
     "output_type": "execute_result"
    }
   ],
   "source": [
    "utils.RGA(G(0))"
   ]
  },
  {
   "cell_type": "code",
   "execution_count": 85,
   "metadata": {},
   "outputs": [],
   "source": [
    "RGA_numbers = [utils.RGA(G(s)).diagonal() for s in omega*1j]"
   ]
  },
  {
   "cell_type": "code",
   "execution_count": 86,
   "metadata": {},
   "outputs": [
    {
     "data": {
      "text/plain": [
       "[<matplotlib.lines.Line2D at 0x1a87d1e0550>,\n",
       " <matplotlib.lines.Line2D at 0x1a87c060fd0>,\n",
       " <matplotlib.lines.Line2D at 0x1a87c060cf8>]"
      ]
     },
     "execution_count": 86,
     "metadata": {},
     "output_type": "execute_result"
    },
    {
     "data": {
      "image/png": "[encoded data removed]",
      "text/plain": [
       "<Figure size 432x288 with 1 Axes>"
      ]
     },
     "metadata": {
      "needs_background": "light"
     },
     "output_type": "display_data"
    }
   ],
   "source": [
    "plt.loglog(omega, RGA_numbers)"
   ]
  },
  {
   "cell_type": "code",
   "execution_count": null,
   "metadata": {},
   "outputs": [],
   "source": []
  }
 ],
 "metadata": {
  "kernelspec": {
   "display_name": "Python 3",
   "language": "python",
   "name": "python3"
  },
  "language_info": {
   "codemirror_mode": {
    "name": "ipython",
    "version": 3
   },
   "file_extension": ".py",
   "mimetype": "text/x-python",
   "name": "python",
   "nbconvert_exporter": "python",
   "pygments_lexer": "ipython3",
   "version": "3.7.1"
  }
 },
 "nbformat": 4,
 "nbformat_minor": 2
}
