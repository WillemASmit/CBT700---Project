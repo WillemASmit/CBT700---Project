{
 "cells": [
  {
   "cell_type": "code",
   "execution_count": 273,
   "metadata": {},
   "outputs": [],
   "source": [
    "import numpy\n",
    "import sys\n",
    "import matplotlib.pyplot as plt\n",
    "%matplotlib inline\n",
    "# sys.path.append('C://Users/Wian/Documents/BEng(Hons)/CBT/Skogestad-Python')"
   ]
  },
  {
   "cell_type": "code",
   "execution_count": 274,
   "metadata": {},
   "outputs": [],
   "source": [
    "import utils"
   ]
  },
  {
   "cell_type": "code",
   "execution_count": 330,
   "metadata": {},
   "outputs": [],
   "source": [
    "def Gd(s):\n",
    "    G11 = 4.2/(6.2*s + 1)*numpy.exp(-12*s)\n",
    "    G21 = 15.9/(6.9*s + 1)*numpy.exp(-10.5*s)\n",
    "    G31 = -0.8655/(7.01*s + 1)*numpy.exp(-0.6*s)\n",
    "    G12 = 2800*(-0.028952*s - 0.0011)/((7.85*s +1)*(14.63*s + 1))*numpy.exp(-s)\n",
    "    G22 = 2800*(-0.062784*s - 0.0032)/((7.29*s +1)*(8.94*s + 1))*numpy.exp(-3.44*s)\n",
    "    G32 = 2.24/(7.76*s + 1)#*numpy.exp(-2.6*s)\n",
    "    return numpy.matrix([[G11, G12],\n",
    "                         [G21, G22],\n",
    "                         [G31, G32]])"
   ]
  },
  {
   "cell_type": "code",
   "execution_count": 331,
   "metadata": {},
   "outputs": [],
   "source": [
    "Kc = 1\n",
    "def G(s):\n",
    "    G11 = 4.29 * numpy.exp(-2.6 * s) / ((6.7 * s + 1))\n",
    "    G12 = -2.38 * numpy.exp(-3.5 * s) / ((8.64 * s + 1))\n",
    "    G13 = -2.156 * numpy.exp(-s) / ((9.06 * s + 1))\n",
    "    G21 = 7.215 * numpy.exp(-6.5 * s) / ((3.25 * s + 1))\n",
    "    G22 = -9.218 * numpy.exp(-3.0 * s) / ((5.0 * s + 1))\n",
    "    G23 = -2.156 * numpy.exp(-s) / ((9.06 * s + 1))\n",
    "    G31 = -0.5635 * numpy.exp(-9.2 * s) / ((8.15 * s + 1))\n",
    "    G32 =  0.451143 * numpy.exp(-9.4 * s) / ((10.9 * s + 1))\n",
    "    G33 = 1.1 * (10.1*s + 0.87) * numpy.exp(-s) / ((3.89 * s + 1)*(18.8*s + 1))\n",
    "    return numpy.diag([Kc, Kc, Kc])*numpy.matrix([[G11, G12, G13],\n",
    "                         [G21, G22, G23],\n",
    "                         [G31, G32, G33]])"
   ]
  },
  {
   "cell_type": "code",
   "execution_count": 332,
   "metadata": {},
   "outputs": [],
   "source": [
    "ks = [4.29, -2.38, -2.156, 7.215, -9.218, -2.156, -0.5635, 0.451143]\n",
    "taus = [6.7, 8.64, 9.06, 3.25, 5.0, 9.06, 8.15, 10.9]\n",
    "thetas = [2.65, 3.5, 1, 6.5, 3.0, 1, 9.2, 9.4]"
   ]
  },
  {
   "cell_type": "code",
   "execution_count": 333,
   "metadata": {},
   "outputs": [],
   "source": [
    "from scipy.optimize import minimize, curve_fit"
   ]
  },
  {
   "cell_type": "code",
   "execution_count": 334,
   "metadata": {},
   "outputs": [],
   "source": [
    "omega = numpy.logspace(-2, 3, 1000)"
   ]
  },
  {
   "cell_type": "code",
   "execution_count": 335,
   "metadata": {},
   "outputs": [],
   "source": [
    "def G_P(k, tau, theta, s):\n",
    "    return k*numpy.exp(-s*theta)/(tau*s + 1)"
   ]
  },
  {
   "cell_type": "code",
   "execution_count": 359,
   "metadata": {},
   "outputs": [],
   "source": [
    "def Gnom(s):\n",
    "    return G_P(4.29, 6.7, 2.6, s)"
   ]
  },
  {
   "cell_type": "code",
   "execution_count": 384,
   "metadata": {},
   "outputs": [],
   "source": [
    "def G_un(k_nom, tau_nom, theta_nom):\n",
    "    \n",
    "    def Gnom(s):\n",
    "        return k_nom*numpy.exp(-s*theta_nom)/(tau_nom*s + 1)\n",
    "    \n",
    "    def objective(x, omega):\n",
    "        k, tau, theta = x\n",
    "        s = 1j*omega\n",
    "        return -numpy.abs((G_P(k, tau, theta, s) - Gnom(s))/Gnom(s))\n",
    "    \n",
    "    print(objective([k_nom, tau_nom, theta_nom], 0))\n",
    "    bounds = [[k_nom*(0.98), k_nom*1.02], \n",
    "              [tau_nom*(0.90), tau_nom*1.1], \n",
    "              [theta_nom*(0.98), theta_nom*1.02]]\n",
    "    vals = []\n",
    "    starts = 10\n",
    "    for omegai in omega:\n",
    "        best = float('-inf')\n",
    "        # We will use \"multi-start\" strategy\n",
    "        for start in range(starts):\n",
    "            x0 = [k_nom + numpy.random.uniform(-0.05*k_nom, 0.05*k_nom),\n",
    "                  tau_nom + numpy.random.uniform(-0.1*tau_nom, 0.1*tau_nom),\n",
    "                  theta_nom + numpy.random.uniform(-0.02*theta_nom, 0.02*theta_nom)]\n",
    "            r = minimize(objective, \n",
    "                         x0, \n",
    "                         args=omegai, \n",
    "                         bounds=bounds,\n",
    "                         method='TNC')  # TNC and L-BFGS-B can handle bounds\n",
    "            if -r['fun'] > best:\n",
    "                best = -r['fun']\n",
    "        vals.append(best)\n",
    "    \n",
    "    return vals"
   ]
  },
  {
   "cell_type": "code",
   "execution_count": 457,
   "metadata": {},
   "outputs": [
    {
     "name": "stdout",
     "output_type": "stream",
     "text": [
      "-0.0\n"
     ]
    }
   ],
   "source": [
    "i = 0\n",
    "values = G_un(ks[i], taus[i], thetas[i])"
   ]
  },
  {
   "cell_type": "code",
   "execution_count": 458,
   "metadata": {},
   "outputs": [],
   "source": [
    "def inter(T, k1, k2):\n",
    "    def w_I(s, T, k1, k2):\n",
    "            return (T*s + k1)/(T/k2*s + 1)\n",
    "\n",
    "    plt.loglog(omega, values, label='$l_I$')\n",
    "    plt.loglog(omega, w_I(omega, T, k1, k2), label = '$w_I$')\n",
    "    plt.xlabel(\"Frequency, $\\omega$\")\n",
    "    plt.ylabel(\"Magnitude\")\n",
    "    plt.legend()"
   ]
  },
  {
   "cell_type": "code",
   "execution_count": 459,
   "metadata": {},
   "outputs": [],
   "source": [
    "from ipywidgets import interact"
   ]
  },
  {
   "cell_type": "code",
   "execution_count": 460,
   "metadata": {},
   "outputs": [
    {
     "data": {
      "application/vnd.jupyter.widget-view+json": {
       "model_id": "d21179aaa1f3419d87cff76b3f9d10d0",
       "version_major": 2,
       "version_minor": 0
      },
      "text/plain": [
       "interactive(children=(FloatSlider(value=3.0500000000000003, description='T', max=6.0, min=0.1), FloatSlider(va…"
      ]
     },
     "metadata": {},
     "output_type": "display_data"
    },
    {
     "data": {
      "text/plain": [
       "<function __main__.inter(T, k1, k2)>"
      ]
     },
     "execution_count": 460,
     "metadata": {},
     "output_type": "execute_result"
    }
   ],
   "source": [
    "interact(inter, T = (0.1, 6.), k1 = (0.01, 1.0), k2 = 2.5)"
   ]
  },
  {
   "cell_type": "code",
   "execution_count": 464,
   "metadata": {},
   "outputs": [
    {
     "data": {
      "image/png": "[encoded data removed]",
      "text/plain": [
       "<Figure size 432x288 with 1 Axes>"
      ]
     },
     "metadata": {
      "needs_background": "light"
     },
     "output_type": "display_data"
    }
   ],
   "source": [
    "k_nom, tau_nom, theta_nom = ks[1], taus[1], thetas[1]\n",
    "\n",
    "s = omega*1j\n",
    "\n",
    "inter(0.7, 0.02, 2.5)\n",
    "# plt.loglog(omega, numpy.abs((Gnom(s)-G_P(s))/Gnom(s)))"
   ]
  },
  {
   "cell_type": "code",
   "execution_count": 462,
   "metadata": {},
   "outputs": [],
   "source": [
    "G33 = 1.1 * (10.1*s + 0.87) * numpy.exp(-s) / ((3.89 * s + 1)*(18.8*s + 1))\n"
   ]
  },
  {
   "cell_type": "code",
   "execution_count": 185,
   "metadata": {},
   "outputs": [],
   "source": [
    "def Gnom(s):\n",
    "    return 0.957 * (11.6*s + 1) * numpy.exp(-s) / ((3.89 * s + 1)*(18.8*s + 1))\n",
    "\n",
    "def G_P(k, tau1, tau2, tau3, theta, s):\n",
    "    return k*(tau1*s + 1)*numpy.exp(-theta*s)/((tau2*s + 1)*(tau3*s + 1))\n",
    "\n",
    "def objective(x, omega):\n",
    "    k, tau1, tau2, tau3, theta = x\n",
    "    s = 1j*omega\n",
    "    return -numpy.abs((G_P(k, tau1, tau2, tau3, theta, s) - Gnom(s))/Gnom(s))\n",
    "\n",
    "kn, tau1n, tau2n, tau3n, thetan = [0.957, 11.6, 3.89, 18.8, 1]\n",
    "\n",
    "bounds = [[kn*(0.98), kn*1.02], \n",
    "          [tau1n*(0.90), tau1n*1.1],\n",
    "          [tau2n*(0.90), tau2n*1.1],\n",
    "          [tau3n*(0.90), tau3n*1.1],\n",
    "          [thetan*(0.98), thetan*1.02]]\n",
    "vals = []\n",
    "starts = 10\n",
    "for omegai in omega:\n",
    "    best = float('-inf')\n",
    "    # We will use \"multi-start\" strategy\n",
    "    for start in range(starts):\n",
    "        x0 = numpy.random.uniform(2, 3, size=5)\n",
    "        r = minimize(objective, \n",
    "                     x0, \n",
    "                     args=omegai, \n",
    "                     bounds=bounds,\n",
    "                     method='TNC')  # TNC and L-BFGS-B can handle bounds\n",
    "        if -r['fun'] > best:\n",
    "            best = -r['fun']\n",
    "    vals.append(best)"
   ]
  },
  {
   "cell_type": "code",
   "execution_count": 269,
   "metadata": {},
   "outputs": [
    {
     "data": {
      "text/plain": [
       "<matplotlib.legend.Legend at 0x20125880630>"
      ]
     },
     "execution_count": 269,
     "metadata": {},
     "output_type": "execute_result"
    },
    {
     "data": {
      "image/png": "[encoded data removed]",
      "text/plain": [
       "<Figure size 432x288 with 1 Axes>"
      ]
     },
     "metadata": {
      "needs_background": "light"
     },
     "output_type": "display_data"
    }
   ],
   "source": [
    "def w_I(s, T1, T2, k1, k2, k3, k4):\n",
    "            return (T1*s + k1)*(T2*s + k4)/(k2*s + 1)/(k3*s + 1)\n",
    "\n",
    "Ans,_ = curve_fit(w_I, omega, vals)\n",
    "\n",
    "plt.loglog(omega, w_I(omega*1j, 0.8, 0.55, 8, 11, 0.015, 0.0095), label=\"$w_I$\")\n",
    "# plt.loglog(omega, w_I(omega*1j, *Ans))\n",
    "plt.loglog(omega, vals, label = \"$l_I$\")\n",
    "plt.xlabel(\"Frequency, $\\omega$\")\n",
    "plt.ylabel(\"Magnitude\")\n",
    "plt.legend()"
   ]
  },
  {
   "cell_type": "code",
   "execution_count": null,
   "metadata": {},
   "outputs": [],
   "source": []
  },
  {
   "cell_type": "code",
   "execution_count": null,
   "metadata": {},
   "outputs": [],
   "source": []
  }
 ],
 "metadata": {
  "kernelspec": {
   "display_name": "Python 3",
   "language": "python",
   "name": "python3"
  },
  "language_info": {
   "codemirror_mode": {
    "name": "ipython",
    "version": 3
   },
   "file_extension": ".py",
   "mimetype": "text/x-python",
   "name": "python",
   "nbconvert_exporter": "python",
   "pygments_lexer": "ipython3",
   "version": "3.7.1"
  }
 },
 "nbformat": 4,
 "nbformat_minor": 2
}
