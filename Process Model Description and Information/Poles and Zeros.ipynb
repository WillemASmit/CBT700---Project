{
 "cells": [
  {
   "cell_type": "code",
   "execution_count": 58,
   "metadata": {},
   "outputs": [
    {
     "data": {
      "text/plain": [
       "['/home/wian/anaconda3/lib/python36.zip',\n",
       " '/home/wian/anaconda3/lib/python3.6',\n",
       " '/home/wian/anaconda3/lib/python3.6/lib-dynload',\n",
       " '',\n",
       " '/home/wian/anaconda3/lib/python3.6/site-packages',\n",
       " '/home/wian/anaconda3/lib/python3.6/site-packages/IPython/extensions',\n",
       " '/home/wian/.ipython',\n",
       " '/home/wian/Documents/BEng_Hons/Skogestad-Python/']"
      ]
     },
     "execution_count": 58,
     "metadata": {},
     "output_type": "execute_result"
    }
   ],
   "source": [
    "import sys\n",
    "sys.path"
   ]
  },
  {
   "cell_type": "code",
   "execution_count": 59,
   "metadata": {},
   "outputs": [],
   "source": [
    "import utils\n",
    "import numpy\n",
    "import matplotlib.pyplot as plt\n",
    "%matplotlib inline"
   ]
  },
  {
   "cell_type": "code",
   "execution_count": 60,
   "metadata": {},
   "outputs": [],
   "source": [
    "G11 = utils.tf([4.29], [6.7, 1])#, deadtime = 2.6)\n",
    "G12 = utils.tf([-2.38], [8.64, 1])#, deadtime = 3.5)\n",
    "G13 = utils.tf([-2.156], [9.06, 1])#, deadtime = 1)\n",
    "G21 = utils.tf([7.215], [3.25, 1])#, deadtime = 6.5)\n",
    "G22 = utils.tf([-9.218], [5.0, 1])#, deadtime = 3)\n",
    "G23 = utils.tf([-2.156], [9.06, 1])#, deadtime = 1)\n",
    "G31 = utils.tf([-0.5635], [8.15, 1])#, deadtime = 9.2)\n",
    "G32 = utils.tf([0.451143], [10.9, 1])#, deadtime = 9.4)\n",
    "G33 = utils.tf([1.1*10.1, 1.1*0.87], [3.89*18.8, 18.8+3.89, 1])#, deadtime = 1)"
   ]
  },
  {
   "cell_type": "code",
   "execution_count": 61,
   "metadata": {},
   "outputs": [],
   "source": [
    "G = utils.mimotf([[G11, G12, G13], [G21, G22, G23], [G31, G32, G33]])"
   ]
  },
  {
   "cell_type": "code",
   "execution_count": 68,
   "metadata": {},
   "outputs": [],
   "source": [
    "Poles, Zeros, _ = utils.poles_and_zeros_of_square_tf_matrix(G)"
   ]
  },
  {
   "cell_type": "code",
   "execution_count": 73,
   "metadata": {},
   "outputs": [
    {
     "data": {
      "text/plain": [
       "<matplotlib.lines.Line2D at 0x7fa001f57b38>"
      ]
     },
     "execution_count": 73,
     "metadata": {},
     "output_type": "execute_result"
    },
    {
     "data": {
      "image/png": "[encoded data removed]",
      "text/plain": [
       "<Figure size 432x288 with 1 Axes>"
      ]
     },
     "metadata": {
      "needs_background": "light"
     },
     "output_type": "display_data"
    }
   ],
   "source": [
    "plt.plot(numpy.real(Poles), numpy.imag(Poles), 'x')\n",
    "plt.plot(numpy.real(Zeros), numpy.imag(Zeros), 'o')\n",
    "plt.grid()\n",
    "plt.axhline([0], color = 'k')\n",
    "plt.axvline([0], color = 'k')"
   ]
  },
  {
   "cell_type": "code",
   "execution_count": 75,
   "metadata": {
    "scrolled": true
   },
   "outputs": [
    {
     "data": {
      "text/plain": [
       "array([[ 2.11123578, -0.84907281, -0.26216297],\n",
       "       [-0.59035419,  1.67068873, -0.08033454],\n",
       "       [-0.52088159,  0.17838408,  1.34249751]])"
      ]
     },
     "execution_count": 75,
     "metadata": {},
     "output_type": "execute_result"
    }
   ],
   "source": [
    "utils.RGA(G(0))"
   ]
  },
  {
   "cell_type": "code",
   "execution_count": null,
   "metadata": {},
   "outputs": [],
   "source": []
  }
 ],
 "metadata": {
  "kernelspec": {
   "display_name": "Python 3",
   "language": "python",
   "name": "python3"
  },
  "language_info": {
   "codemirror_mode": {
    "name": "ipython",
    "version": 3
   },
   "file_extension": ".py",
   "mimetype": "text/x-python",
   "name": "python",
   "nbconvert_exporter": "python",
   "pygments_lexer": "ipython3",
   "version": "3.6.8"
  }
 },
 "nbformat": 4,
 "nbformat_minor": 2
}
