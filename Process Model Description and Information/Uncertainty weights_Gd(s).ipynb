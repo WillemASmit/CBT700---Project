{
 "cells": [
  {
   "cell_type": "code",
   "execution_count": 1,
   "metadata": {},
   "outputs": [],
   "source": [
    "import numpy\n",
    "import sys\n",
    "import matplotlib.pyplot as plt\n",
    "%matplotlib inline\n",
    "# sys.path.append('C://Users/Wian/Documents/BEng(Hons)/CBT/Skogestad-Python')"
   ]
  },
  {
   "cell_type": "code",
   "execution_count": 2,
   "metadata": {},
   "outputs": [],
   "source": [
    "import utils"
   ]
  },
  {
   "cell_type": "code",
   "execution_count": 3,
   "metadata": {},
   "outputs": [],
   "source": [
    "def Gd(s):\n",
    "    G11 = 4.2/(6.2*s + 1)*numpy.exp(-12*s)\n",
    "    G21 = 15.9/(6.9*s + 1)*numpy.exp(-10.5*s)\n",
    "    G31 = -0.8655/(7.01*s + 1)*numpy.exp(-0.6*s)\n",
    "    G12 = 2800*(-0.028952*s - 0.0011)/((7.85*s +1)*(14.63*s + 1))*numpy.exp(-s)\n",
    "    G22 = 2800*(-0.062784*s - 0.0032)/((7.29*s +1)*(8.94*s + 1))*numpy.exp(-3.44*s)\n",
    "    G32 = 2.24/(7.76*s + 1)*numpy.exp(-2.6*s)\n",
    "    return numpy.matrix([[G11, G12],\n",
    "                         [G21, G22],\n",
    "                         [G31, G32]])"
   ]
  },
  {
   "cell_type": "code",
   "execution_count": 4,
   "metadata": {},
   "outputs": [],
   "source": [
    "ks = [4.2, 15.9, -0.8655, 2.24]\n",
    "taus = [6.2, 6.9, 7.01, 7.76]\n",
    "thetas = [12, 10.5, 0.6, 2.6]"
   ]
  },
  {
   "cell_type": "code",
   "execution_count": 5,
   "metadata": {},
   "outputs": [],
   "source": [
    "from scipy.optimize import minimize, curve_fit"
   ]
  },
  {
   "cell_type": "code",
   "execution_count": 6,
   "metadata": {},
   "outputs": [],
   "source": [
    "omega = numpy.logspace(-2, 3, 1000)"
   ]
  },
  {
   "cell_type": "code",
   "execution_count": 9,
   "metadata": {},
   "outputs": [],
   "source": [
    "def G_un(k_nom, tau_nom, theta_nom):\n",
    "    \n",
    "    def Gnom(s):\n",
    "        return k_nom*numpy.exp(-s*theta_nom)/(tau_nom*s + 1)\n",
    "    \n",
    "    def objective(x, omega):\n",
    "        k, tau, theta = x\n",
    "        s = 1j*omega\n",
    "        return -numpy.abs((G_P(k, tau, theta, s) - Gnom(s))/Gnom(s))\n",
    "    \n",
    "    print(objective([k_nom, tau_nom, theta_nom], 0))\n",
    "    bounds = [[k_nom*(0.98), k_nom*1.02], \n",
    "              [tau_nom*(0.90), tau_nom*1.1], \n",
    "              [theta_nom*(0.98), theta_nom*1.02]]\n",
    "    vals = []\n",
    "    starts = 10\n",
    "    for omegai in omega:\n",
    "        best = float('-inf')\n",
    "        # We will use \"multi-start\" strategy\n",
    "        for start in range(starts):\n",
    "            x0 = [k_nom + numpy.random.uniform(-0.05*k_nom, 0.05*k_nom),\n",
    "                  tau_nom + numpy.random.uniform(-0.1*tau_nom, 0.1*tau_nom),\n",
    "                  theta_nom + numpy.random.uniform(-0.02*theta_nom, 0.02*theta_nom)]\n",
    "            r = minimize(objective, \n",
    "                         x0, \n",
    "                         args=omegai, \n",
    "                         bounds=bounds,\n",
    "                         method='TNC')  # TNC and L-BFGS-B can handle bounds\n",
    "            if -r['fun'] > best:\n",
    "                best = -r['fun']\n",
    "        vals.append(best)\n",
    "    \n",
    "    return vals"
   ]
  },
  {
   "cell_type": "code",
   "execution_count": 38,
   "metadata": {},
   "outputs": [
    {
     "name": "stdout",
     "output_type": "stream",
     "text": [
      "-0.0\n"
     ]
    }
   ],
   "source": [
    "i = 3\n",
    "values = G_un(ks[i], taus[i], thetas[i])"
   ]
  },
  {
   "cell_type": "code",
   "execution_count": 39,
   "metadata": {},
   "outputs": [],
   "source": [
    "def inter(T, k1, k2):\n",
    "    def w_I(s, T, k1, k2):\n",
    "            return (T*s + k1)/(T/k2*s + 1)\n",
    "\n",
    "    plt.loglog(omega, values, label='$l_I$')\n",
    "    plt.loglog(omega, w_I(omega, T, k1, k2), label = '$w_I$')\n",
    "    plt.xlabel(\"Frequency, $\\omega$\")\n",
    "    plt.ylabel(\"Magnitude\")\n",
    "    plt.legend()"
   ]
  },
  {
   "cell_type": "code",
   "execution_count": 40,
   "metadata": {},
   "outputs": [],
   "source": [
    "from ipywidgets import interact"
   ]
  },
  {
   "cell_type": "code",
   "execution_count": 41,
   "metadata": {},
   "outputs": [
    {
     "data": {
      "application/vnd.jupyter.widget-view+json": {
       "model_id": "35327b9cf7ca4a6d8a262b05ccb84863",
       "version_major": 2,
       "version_minor": 0
      },
      "text/plain": [
       "interactive(children=(FloatSlider(value=3.0500000000000003, description='T', max=6.0, min=0.1), FloatSlider(va…"
      ]
     },
     "metadata": {},
     "output_type": "display_data"
    },
    {
     "data": {
      "text/plain": [
       "<function __main__.inter(T, k1, k2)>"
      ]
     },
     "execution_count": 41,
     "metadata": {},
     "output_type": "execute_result"
    }
   ],
   "source": [
    "interact(inter, T = (0.1, 6.), k1 = (0.01, 1.0), k2 = 2.5)"
   ]
  },
  {
   "cell_type": "code",
   "execution_count": 42,
   "metadata": {},
   "outputs": [
    {
     "data": {
      "image/png": "[encoded data removed]",
      "text/plain": [
       "<Figure size 432x288 with 1 Axes>"
      ]
     },
     "metadata": {
      "needs_background": "light"
     },
     "output_type": "display_data"
    }
   ],
   "source": [
    "k_nom, tau_nom, theta_nom = ks[1], taus[1], thetas[1]\n",
    "\n",
    "s = omega*1j\n",
    "\n",
    "inter(0.8, 0.015, 2.5)\n",
    "# plt.loglog(omega, numpy.abs((Gnom(s)-G_P(s))/Gnom(s)))"
   ]
  },
  {
   "cell_type": "code",
   "execution_count": 16,
   "metadata": {},
   "outputs": [],
   "source": [
    "G33 = 1.1 * (10.1*s + 0.87) * numpy.exp(-s) / ((3.89 * s + 1)*(18.8*s + 1))\n"
   ]
  },
  {
   "cell_type": "code",
   "execution_count": 86,
   "metadata": {},
   "outputs": [],
   "source": [
    "def Gnom(s):\n",
    "    return 2800*(-0.062784*s - 0.0032)/((7.29*s +1)*(8.94*s + 1))*numpy.exp(-3.44*s)\n",
    "\n",
    "def G_P(k, tau1, tau2, tau3, theta, s):\n",
    "    return k*(tau1*s + 1)*numpy.exp(-theta*s)/((tau2*s + 1)*(tau3*s + 1))\n",
    "\n",
    "def objective(x, omega):\n",
    "    k, tau1, tau2, tau3, theta = x\n",
    "    s = 1j*omega\n",
    "    return -numpy.abs((G_P(k, tau1, tau2, tau3, theta, s) - Gnom(s)))\n",
    "\n",
    "kn, tau1n, tau2n, tau3n, thetan = [2800/-0.0032, -0.062784/-0.0032, 7.29, 8.94, 3.44]\n",
    "\n",
    "bounds = [[kn*(0.98), kn*1.02], \n",
    "          [tau1n*(0.90), tau1n*1.1],\n",
    "          [tau2n*(0.90), tau2n*1.1],\n",
    "          [tau3n*(0.90), tau3n*1.1],\n",
    "          [thetan*(0.98), thetan*1.02]]\n",
    "vals = []\n",
    "starts = 10\n",
    "for omegai in omega:\n",
    "    best = float('-inf')\n",
    "    # We will use \"multi-start\" strategy\n",
    "    for start in range(starts):\n",
    "        x0 = numpy.random.uniform(2, 3, size=5)\n",
    "        r = minimize(objective, \n",
    "                     x0, \n",
    "                     args=omegai, \n",
    "                     bounds=bounds,\n",
    "                     method='TNC')  # TNC and L-BFGS-B can handle bounds\n",
    "        if -r['fun'] > best:\n",
    "            best = -r['fun']\n",
    "    vals.append(best)"
   ]
  },
  {
   "cell_type": "code",
   "execution_count": 96,
   "metadata": {},
   "outputs": [
    {
     "data": {
      "text/plain": [
       "array([ 8.58157067, 53.09691807,  9.60442633])"
      ]
     },
     "execution_count": 96,
     "metadata": {},
     "output_type": "execute_result"
    },
    {
     "data": {
      "image/png": "[encoded data removed]",
      "text/plain": [
       "<Figure size 432x288 with 1 Axes>"
      ]
     },
     "metadata": {
      "needs_background": "light"
     },
     "output_type": "display_data"
    }
   ],
   "source": [
    "def w_I(s, T, k1, k2):\n",
    "            return T*(k1*s + 1)/(k2*s + 1)**2\n",
    "\n",
    "Ans,_ = curve_fit(w_I, omega, vals)\n",
    "\n",
    "plt.loglog(omega, vals, label = \"$l_I$\")\n",
    "plt.loglog(omega, numpy.abs(w_I(omega*1j, 11, 35,  9.6)), label=\"$w_I$\")\n",
    "# plt.loglog(omega, numpy.abs(w_I(omega*1j, *Ans)))\n",
    "\n",
    "plt.xlabel(\"Frequency, $\\omega$\")\n",
    "plt.ylabel(\"Magnitude\")\n",
    "plt.legend()\n",
    "Ans"
   ]
  },
  {
   "cell_type": "code",
   "execution_count": null,
   "metadata": {},
   "outputs": [],
   "source": []
  }
 ],
 "metadata": {
  "kernelspec": {
   "display_name": "Python 3",
   "language": "python",
   "name": "python3"
  },
  "language_info": {
   "codemirror_mode": {
    "name": "ipython",
    "version": 3
   },
   "file_extension": ".py",
   "mimetype": "text/x-python",
   "name": "python",
   "nbconvert_exporter": "python",
   "pygments_lexer": "ipython3",
   "version": "3.7.1"
  }
 },
 "nbformat": 4,
 "nbformat_minor": 2
}
