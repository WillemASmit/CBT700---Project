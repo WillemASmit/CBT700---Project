{
 "cells": [
  {
   "cell_type": "code",
   "execution_count": 10,
   "metadata": {
    "collapsed": true
   },
   "outputs": [],
   "source": [
    "import control"
   ]
  },
  {
   "cell_type": "code",
   "execution_count": 11,
   "metadata": {},
   "outputs": [
    {
     "ename": "ImportError",
     "evalue": "DLL load failed: The specified module could not be found.",
     "output_type": "error",
     "traceback": [
      "\u001b[1;31m---------------------------------------------------------------------------\u001b[0m",
      "\u001b[1;31mImportError\u001b[0m                               Traceback (most recent call last)",
      "\u001b[1;32m<ipython-input-11-5cdaeed6bdd3>\u001b[0m in \u001b[0;36m<module>\u001b[1;34m()\u001b[0m\n\u001b[1;32m----> 1\u001b[1;33m \u001b[1;32mimport\u001b[0m \u001b[0mslycot\u001b[0m\u001b[1;33m\u001b[0m\u001b[0m\n\u001b[0m",
      "\u001b[1;32m~\\Anaconda3\\lib\\site-packages\\slycot\\__init__.py\u001b[0m in \u001b[0;36m<module>\u001b[1;34m()\u001b[0m\n\u001b[0;32m     16\u001b[0m \u001b[1;33m\u001b[0m\u001b[0m\n\u001b[0;32m     17\u001b[0m     \u001b[1;31m# Analysis routines (14/40 wrapped)\u001b[0m\u001b[1;33m\u001b[0m\u001b[1;33m\u001b[0m\u001b[0m\n\u001b[1;32m---> 18\u001b[1;33m     \u001b[1;32mfrom\u001b[0m \u001b[1;33m.\u001b[0m\u001b[0manalysis\u001b[0m \u001b[1;32mimport\u001b[0m \u001b[0mab01nd\u001b[0m\u001b[1;33m,\u001b[0m\u001b[0mab05md\u001b[0m\u001b[1;33m,\u001b[0m\u001b[0mab05nd\u001b[0m\u001b[1;33m,\u001b[0m\u001b[0mab07nd\u001b[0m\u001b[1;33m,\u001b[0m\u001b[0mab08nd\u001b[0m\u001b[1;33m,\u001b[0m\u001b[0;31m \u001b[0m\u001b[0;31m\\\u001b[0m\u001b[1;33m\u001b[0m\u001b[0m\n\u001b[0m\u001b[0;32m     19\u001b[0m          \u001b[0mab09ad\u001b[0m\u001b[1;33m,\u001b[0m\u001b[0mab09ax\u001b[0m\u001b[1;33m,\u001b[0m\u001b[0mab09bd\u001b[0m\u001b[1;33m,\u001b[0m\u001b[0mab09md\u001b[0m\u001b[1;33m,\u001b[0m\u001b[0mab09nd\u001b[0m\u001b[1;33m,\u001b[0m\u001b[0mab13bd\u001b[0m\u001b[1;33m,\u001b[0m\u001b[0mab13dd\u001b[0m\u001b[1;33m,\u001b[0m\u001b[0mab13ed\u001b[0m\u001b[1;33m,\u001b[0m\u001b[0mab13fd\u001b[0m\u001b[1;33m\u001b[0m\u001b[0m\n\u001b[0;32m     20\u001b[0m \u001b[1;33m\u001b[0m\u001b[0m\n",
      "\u001b[1;32m~\\Anaconda3\\lib\\site-packages\\slycot\\analysis.py\u001b[0m in \u001b[0;36m<module>\u001b[1;34m()\u001b[0m\n\u001b[0;32m     19\u001b[0m \u001b[1;31m#       MA 02110-1301, USA.\u001b[0m\u001b[1;33m\u001b[0m\u001b[1;33m\u001b[0m\u001b[0m\n\u001b[0;32m     20\u001b[0m \u001b[1;33m\u001b[0m\u001b[0m\n\u001b[1;32m---> 21\u001b[1;33m \u001b[1;32mfrom\u001b[0m \u001b[1;33m.\u001b[0m \u001b[1;32mimport\u001b[0m \u001b[0m_wrapper\u001b[0m\u001b[1;33m\u001b[0m\u001b[0m\n\u001b[0m\u001b[0;32m     22\u001b[0m \u001b[1;32mimport\u001b[0m \u001b[0mwarnings\u001b[0m\u001b[1;33m\u001b[0m\u001b[0m\n\u001b[0;32m     23\u001b[0m \u001b[1;33m\u001b[0m\u001b[0m\n",
      "\u001b[1;31mImportError\u001b[0m: DLL load failed: The specified module could not be found."
     ]
    }
   ],
   "source": [
    "import slycot"
   ]
  },
  {
   "cell_type": "code",
   "execution_count": 5,
   "metadata": {},
   "outputs": [
    {
     "ename": "NameError",
     "evalue": "name '__file__' is not defined",
     "output_type": "error",
     "traceback": [
      "\u001b[1;31m---------------------------------------------------------------------------\u001b[0m",
      "\u001b[1;31mNameError\u001b[0m                                 Traceback (most recent call last)",
      "\u001b[1;32m<ipython-input-5-57cee0097f67>\u001b[0m in \u001b[0;36m<module>\u001b[1;34m()\u001b[0m\n\u001b[0;32m     11\u001b[0m \u001b[0mPY3\u001b[0m \u001b[1;33m=\u001b[0m \u001b[0msys\u001b[0m\u001b[1;33m.\u001b[0m\u001b[0mversion_info\u001b[0m \u001b[1;33m>=\u001b[0m \u001b[1;33m(\u001b[0m\u001b[1;36m3\u001b[0m\u001b[1;33m,\u001b[0m \u001b[1;36m0\u001b[0m\u001b[1;33m)\u001b[0m\u001b[1;33m\u001b[0m\u001b[0m\n\u001b[0;32m     12\u001b[0m \u001b[1;33m\u001b[0m\u001b[0m\n\u001b[1;32m---> 13\u001b[1;33m \u001b[0mTORCH_ROOT\u001b[0m \u001b[1;33m=\u001b[0m \u001b[0mos\u001b[0m\u001b[1;33m.\u001b[0m\u001b[0mpath\u001b[0m\u001b[1;33m.\u001b[0m\u001b[0mdirname\u001b[0m\u001b[1;33m(\u001b[0m\u001b[0mos\u001b[0m\u001b[1;33m.\u001b[0m\u001b[0mpath\u001b[0m\u001b[1;33m.\u001b[0m\u001b[0mdirname\u001b[0m\u001b[1;33m(\u001b[0m\u001b[0m__file__\u001b[0m\u001b[1;33m)\u001b[0m\u001b[1;33m)\u001b[0m\u001b[1;33m\u001b[0m\u001b[0m\n\u001b[0m\u001b[0;32m     14\u001b[0m \u001b[0mPY_DLL_PATH\u001b[0m \u001b[1;33m=\u001b[0m \u001b[0mos\u001b[0m\u001b[1;33m.\u001b[0m\u001b[0mpath\u001b[0m\u001b[1;33m.\u001b[0m\u001b[0mjoin\u001b[0m\u001b[1;33m(\u001b[0m\u001b[0mos\u001b[0m\u001b[1;33m.\u001b[0m\u001b[0mpath\u001b[0m\u001b[1;33m.\u001b[0m\u001b[0mdirname\u001b[0m\u001b[1;33m(\u001b[0m\u001b[0msys\u001b[0m\u001b[1;33m.\u001b[0m\u001b[0mexecutable\u001b[0m\u001b[1;33m)\u001b[0m\u001b[1;33m,\u001b[0m \u001b[1;34m'Library\\\\bin'\u001b[0m\u001b[1;33m)\u001b[0m\u001b[1;33m\u001b[0m\u001b[0m\n\u001b[0;32m     15\u001b[0m \u001b[0mTORCH_DLL_PATH\u001b[0m \u001b[1;33m=\u001b[0m \u001b[0mos\u001b[0m\u001b[1;33m.\u001b[0m\u001b[0mpath\u001b[0m\u001b[1;33m.\u001b[0m\u001b[0mjoin\u001b[0m\u001b[1;33m(\u001b[0m\u001b[0mTORCH_ROOT\u001b[0m\u001b[1;33m,\u001b[0m \u001b[1;34m'lib'\u001b[0m\u001b[1;33m)\u001b[0m\u001b[1;33m\u001b[0m\u001b[0m\n",
      "\u001b[1;31mNameError\u001b[0m: name '__file__' is not defined"
     ]
    }
   ],
   "source": [
    "# This script tries to figure out the reason of\n",
    "# `ImportError` on Windows.\n",
    "# Run it with `python check_import.py`.\n",
    "\n",
    "import ctypes\n",
    "import glob\n",
    "import os\n",
    "import sys\n",
    "import subprocess\n",
    "\n",
    "PY3 = sys.version_info >= (3, 0)\n",
    "\n",
    "TORCH_ROOT = os.path.dirname(os.path.dirname(__file__))\n",
    "PY_DLL_PATH = os.path.join(os.path.dirname(sys.executable), 'Library\\\\bin')\n",
    "TORCH_DLL_PATH = os.path.join(TORCH_ROOT, 'lib')\n",
    "NVTOOLEXT_HOME = os.getenv(\n",
    "    'NVTOOLSEXT_PATH', 'C:\\\\Program Files\\\\NVIDIA Corporation\\\\NvToolsExt')\n",
    "NV_ROOT = os.path.dirname(NVTOOLEXT_HOME)\n",
    "\n",
    "IS_CUDA = len(glob.glob(TORCH_ROOT + '\\\\_nvrtc*.pyd')) > 0\n",
    "IS_CONDA = 'conda' in sys.version or 'Continuum' in sys.version or any(\n",
    "    [x.startswith('CONDA') for x in os.environ])\n",
    "\n",
    "VC_LIBS = ['msvcp140.dll']\n",
    "MKL_LIBS = ['mkl_rt.dll']\n",
    "INTEL_OPENMP_LIBS = ['libiomp5md.dll']\n",
    "CUDA_LIBS = ['nvcuda.dll',\n",
    "             'nvToolsExt64_1.dll',\n",
    "             'nvfatbinaryLoader.dll']\n",
    "TORCH_LIBS = ['shm.dll']\n",
    "\n",
    "\n",
    "def add_paths(paths):\n",
    "    \"\"\"Add paths to `PATH`\"\"\"\n",
    "    for path in paths:\n",
    "        os.environ['PATH'] = path + ';' + os.environ['PATH']\n",
    "\n",
    "\n",
    "def get_output(command):\n",
    "    \"\"\"Returns stdout if rc is not 0 else None\"\"\"\n",
    "    p = subprocess.Popen(command, stdout=subprocess.PIPE,\n",
    "                         stderr=subprocess.PIPE, shell=True)\n",
    "    output, _ = p.communicate()\n",
    "    rc = p.returncode\n",
    "    if PY3:\n",
    "        output = output.decode(\"ascii\")\n",
    "    if rc is not 0:\n",
    "        return None\n",
    "    return output.strip()\n",
    "\n",
    "\n",
    "def get_file_path(filename):\n",
    "    \"\"\"Returns the path of a file in `PATH`\"\"\"\n",
    "    out = get_output('where ' + filename)\n",
    "    if out is None:\n",
    "        return out\n",
    "    else:\n",
    "        return out.split('\\r\\n')[0]\n",
    "\n",
    "\n",
    "def detect_reason(raw_message):\n",
    "    message = ''\n",
    "    if raw_message == 'No module named torch':\n",
    "        # detect pip python path mismatch\n",
    "        mismatch, pip_path, python_path = detect_install_import_mismatch()\n",
    "        if mismatch:\n",
    "            message += 'Probably you installed torch in one environment '\n",
    "            message += 'but imported in another one.\\n'\n",
    "            message += 'Detected pip path: %s\\n' % pip_path\n",
    "            message += 'Detected python path: %s\\n' % python_path\n",
    "        else:\n",
    "            message += 'It seems that torch is not installed.\\n'\n",
    "            message += 'Please refer to https://pytorch.org for installation.\\n'\n",
    "    elif raw_message.startswith('DLL load failed'):\n",
    "        add_paths([NVTOOLEXT_HOME, PY_DLL_PATH])\n",
    "        message += check_dependents(TORCH_LIBS, 'PyTorch', [\n",
    "                                    '1. Please change your current directory.', '2. Please reinstall torch.'])\n",
    "        message += check_dependents(VC_LIBS, 'VC Redist',\n",
    "                                    'Please refer to https://aka.ms/vs/15/release/VC_redist.x64.exe for installation.')\n",
    "        message += check_dependents(MKL_LIBS, 'MKL',\n",
    "                                    '`conda install mkl` or `pip install mkl`')\n",
    "        message += check_dependents(INTEL_OPENMP_LIBS, 'intel-openmp',\n",
    "                                    '`conda install intel-openmp` or `pip install intel-openmp`')\n",
    "        if IS_CUDA:\n",
    "            if os.path.exists(NV_ROOT):\n",
    "                message += check_dependents(\n",
    "                    CUDA_LIBS, 'CUDA', 'Please refer to https://developer.nvidia.com/cuda-downloads for installation.')\n",
    "            else:\n",
    "                message += check_dependents(\n",
    "                    CUDA_LIBS, 'CUDA', 'It seems that you don\\'t have NV cards. Please use CPU version instead.')\n",
    "\n",
    "        if message == '':\n",
    "            message += 'It seems `import torch` should work.'\n",
    "            message += 'You may try to add `%s` to the environment variable `PATH`.\\n' % PY_DLL_PATH\n",
    "            message += 'And make sure you restart the command prompt when you apply any changes to the environment.\\n'\n",
    "\n",
    "    return message\n",
    "\n",
    "\n",
    "def detect_install_import_mismatch():\n",
    "    pip_path = get_file_path('pip.exe')\n",
    "    python_path = sys.executable\n",
    "    if pip_path is None or python_path is None:\n",
    "        return False\n",
    "    pip_dir = os.path.dirname(pip_path)\n",
    "    python_dir = os.path.dirname(python_path)\n",
    "    pip_parent_path = os.path.normpath(os.path.dirname(pip_dir))\n",
    "    python_path = os.path.normpath(python_dir)\n",
    "    mismatch = pip_parent_path != python_path\n",
    "    return mismatch, pip_path, python_path\n",
    "\n",
    "\n",
    "def check_dependents(dependents, name, solution):\n",
    "    \"\"\"Checks dependencies loading and prints name and solution\"\"\"\n",
    "    message = ''\n",
    "    for dll in dependents:\n",
    "        try:\n",
    "            _ = ctypes.CDLL(dll)\n",
    "        except Exception as e:\n",
    "            message += 'DLL loading %s failed\\n' % dll\n",
    "            message += 'Original error message:\\n'\n",
    "            message += str(e)\n",
    "            if name is not None:\n",
    "                message += 'It is a component of %s\\n' % name\n",
    "            if solution:\n",
    "                message += 'Possible solution:\\n'\n",
    "                if isinstance(solution, list):\n",
    "                    message += '\\n'.join(solution)\n",
    "                else:\n",
    "                    message += solution\n",
    "                message += '\\n'\n",
    "\n",
    "    return message\n",
    "\n",
    "\n",
    "def main():\n",
    "    try:\n",
    "        import torch\n",
    "        print('`import torch` works perfectly.')\n",
    "    except ImportError as e:\n",
    "        message = detect_reason(str(e))\n",
    "        print(message)\n",
    "\n",
    "\n",
    "if __name__ == '__main__':\n",
    "    main()"
   ]
  },
  {
   "cell_type": "code",
   "execution_count": null,
   "metadata": {
    "collapsed": true
   },
   "outputs": [],
   "source": [
    "!pip uninstall pillow"
   ]
  },
  {
   "cell_type": "code",
   "execution_count": 1,
   "metadata": {},
   "outputs": [
    {
     "name": "stdout",
     "output_type": "stream",
     "text": [
      "Collecting pillow==4.0.0\n",
      "  Downloading https://files.pythonhosted.org/packages/26/55/290cf96f03e01382ede44a9c6f281fcefbdbf1ef24f958196e4377ba9ef5/Pillow-4.0.0-cp36-cp36m-win_amd64.whl (1.5MB)\n",
      "Requirement already satisfied: olefile in c:\\users\\wian\\anaconda3\\lib\\site-packages (from pillow==4.0.0) (0.44)\n",
      "Installing collected packages: pillow\n",
      "  Found existing installation: Pillow 4.2.1\n",
      "    Uninstalling Pillow-4.2.1:\n",
      "      Successfully uninstalled Pillow-4.2.1\n"
     ]
    },
    {
     "name": "stderr",
     "output_type": "stream",
     "text": [
      "Could not install packages due to an EnvironmentError: [WinError 5] Access is denied: 'c:\\\\users\\\\wian\\\\anaconda3\\\\lib\\\\-ite-packages\\\\pil\\\\_imaging.cp36-win_amd64.pyd'\n",
      "Consider using the `--user` option or check the permissions.\n",
      "\n"
     ]
    }
   ],
   "source": [
    "!pip install pillow==4.0.0"
   ]
  },
  {
   "cell_type": "code",
   "execution_count": null,
   "metadata": {
    "collapsed": true
   },
   "outputs": [],
   "source": []
  }
 ],
 "metadata": {
  "kernelspec": {
   "display_name": "Python 3",
   "language": "python",
   "name": "python3"
  },
  "language_info": {
   "codemirror_mode": {
    "name": "ipython",
    "version": 3
   },
   "file_extension": ".py",
   "mimetype": "text/x-python",
   "name": "python",
   "nbconvert_exporter": "python",
   "pygments_lexer": "ipython3",
   "version": "3.6.3"
  }
 },
 "nbformat": 4,
 "nbformat_minor": 2
}
